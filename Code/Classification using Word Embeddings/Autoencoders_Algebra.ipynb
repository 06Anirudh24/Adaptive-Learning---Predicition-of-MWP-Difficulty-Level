{
  "cells": [
    {
      "cell_type": "code",
      "execution_count": null,
      "metadata": {
        "colab": {
          "base_uri": "https://localhost:8080/"
        },
        "id": "WUiKLbDw9E_l",
        "outputId": "8873901b-86a4-473c-dc9d-7b30848bec13"
      },
      "outputs": [
        {
          "name": "stdout",
          "output_type": "stream",
          "text": [
            "Mounted at /content/drive\n"
          ]
        }
      ],
      "source": [
        "from google.colab import drive\n",
        "drive.mount('/content/drive')"
      ]
    },
    {
      "cell_type": "code",
      "execution_count": null,
      "metadata": {
        "id": "JZbklYM425MO"
      },
      "outputs": [],
      "source": [
        "from google.colab import files"
      ]
    },
    {
      "cell_type": "code",
      "execution_count": null,
      "metadata": {
        "id": "lvplQS5q9GRz"
      },
      "outputs": [],
      "source": [
        "import numpy as np\n",
        "import matplotlib.pyplot as plt\n",
        "import pandas as pd\n",
        "import tensorflow as tf\n",
        "from sklearn.preprocessing import StandardScaler"
      ]
    },
    {
      "cell_type": "code",
      "execution_count": null,
      "metadata": {
        "id": "_1zc8HLN9s50"
      },
      "outputs": [],
      "source": [
        "%tensorflow_version 2.x "
      ]
    },
    {
      "cell_type": "code",
      "execution_count": null,
      "metadata": {
        "id": "83ADVP9a_4Gw"
      },
      "outputs": [],
      "source": [
        "from keras.models import Sequential\n",
        "from keras.layers import Dense, Activation, Flatten"
      ]
    },
    {
      "cell_type": "code",
      "execution_count": null,
      "metadata": {
        "colab": {
          "base_uri": "https://localhost:8080/"
        },
        "id": "mHEsCN33AbQZ",
        "outputId": "50f4ac5c-a084-4947-c3c4-d3b983a30cba"
      },
      "outputs": [
        {
          "name": "stdout",
          "output_type": "stream",
          "text": [
            "Requirement already satisfied: tensorflow in /usr/local/lib/python3.7/dist-packages (2.8.0)\n",
            "Collecting tf-estimator-nightly==2.8.0.dev2021122109\n",
            "  Downloading tf_estimator_nightly-2.8.0.dev2021122109-py2.py3-none-any.whl (462 kB)\n",
            "\u001b[K     |████████████████████████████████| 462 kB 5.4 MB/s \n",
            "\u001b[?25hRequirement already satisfied: protobuf>=3.9.2 in /usr/local/lib/python3.7/dist-packages (from tensorflow) (3.17.3)\n",
            "Requirement already satisfied: tensorboard<2.9,>=2.8 in /usr/local/lib/python3.7/dist-packages (from tensorflow) (2.8.0)\n",
            "Requirement already satisfied: typing-extensions>=3.6.6 in /usr/local/lib/python3.7/dist-packages (from tensorflow) (3.10.0.2)\n",
            "Requirement already satisfied: libclang>=9.0.1 in /usr/local/lib/python3.7/dist-packages (from tensorflow) (13.0.0)\n",
            "Requirement already satisfied: grpcio<2.0,>=1.24.3 in /usr/local/lib/python3.7/dist-packages (from tensorflow) (1.43.0)\n",
            "Requirement already satisfied: flatbuffers>=1.12 in /usr/local/lib/python3.7/dist-packages (from tensorflow) (2.0)\n",
            "Requirement already satisfied: keras-preprocessing>=1.1.1 in /usr/local/lib/python3.7/dist-packages (from tensorflow) (1.1.2)\n",
            "Requirement already satisfied: six>=1.12.0 in /usr/local/lib/python3.7/dist-packages (from tensorflow) (1.15.0)\n",
            "Requirement already satisfied: tensorflow-io-gcs-filesystem>=0.23.1 in /usr/local/lib/python3.7/dist-packages (from tensorflow) (0.24.0)\n",
            "Requirement already satisfied: gast>=0.2.1 in /usr/local/lib/python3.7/dist-packages (from tensorflow) (0.5.3)\n",
            "Requirement already satisfied: google-pasta>=0.1.1 in /usr/local/lib/python3.7/dist-packages (from tensorflow) (0.2.0)\n",
            "Requirement already satisfied: setuptools in /usr/local/lib/python3.7/dist-packages (from tensorflow) (57.4.0)\n",
            "Requirement already satisfied: keras<2.9,>=2.8.0rc0 in /usr/local/lib/python3.7/dist-packages (from tensorflow) (2.8.0)\n",
            "Requirement already satisfied: h5py>=2.9.0 in /usr/local/lib/python3.7/dist-packages (from tensorflow) (3.1.0)\n",
            "Requirement already satisfied: absl-py>=0.4.0 in /usr/local/lib/python3.7/dist-packages (from tensorflow) (1.0.0)\n",
            "Requirement already satisfied: numpy>=1.20 in /usr/local/lib/python3.7/dist-packages (from tensorflow) (1.21.5)\n",
            "Requirement already satisfied: opt-einsum>=2.3.2 in /usr/local/lib/python3.7/dist-packages (from tensorflow) (3.3.0)\n",
            "Requirement already satisfied: termcolor>=1.1.0 in /usr/local/lib/python3.7/dist-packages (from tensorflow) (1.1.0)\n",
            "Requirement already satisfied: wrapt>=1.11.0 in /usr/local/lib/python3.7/dist-packages (from tensorflow) (1.13.3)\n",
            "Requirement already satisfied: astunparse>=1.6.0 in /usr/local/lib/python3.7/dist-packages (from tensorflow) (1.6.3)\n",
            "Requirement already satisfied: wheel<1.0,>=0.23.0 in /usr/local/lib/python3.7/dist-packages (from astunparse>=1.6.0->tensorflow) (0.37.1)\n",
            "Requirement already satisfied: cached-property in /usr/local/lib/python3.7/dist-packages (from h5py>=2.9.0->tensorflow) (1.5.2)\n",
            "Requirement already satisfied: werkzeug>=0.11.15 in /usr/local/lib/python3.7/dist-packages (from tensorboard<2.9,>=2.8->tensorflow) (1.0.1)\n",
            "Requirement already satisfied: requests<3,>=2.21.0 in /usr/local/lib/python3.7/dist-packages (from tensorboard<2.9,>=2.8->tensorflow) (2.23.0)\n",
            "Requirement already satisfied: tensorboard-plugin-wit>=1.6.0 in /usr/local/lib/python3.7/dist-packages (from tensorboard<2.9,>=2.8->tensorflow) (1.8.1)\n",
            "Requirement already satisfied: tensorboard-data-server<0.7.0,>=0.6.0 in /usr/local/lib/python3.7/dist-packages (from tensorboard<2.9,>=2.8->tensorflow) (0.6.1)\n",
            "Requirement already satisfied: markdown>=2.6.8 in /usr/local/lib/python3.7/dist-packages (from tensorboard<2.9,>=2.8->tensorflow) (3.3.6)\n",
            "Requirement already satisfied: google-auth<3,>=1.6.3 in /usr/local/lib/python3.7/dist-packages (from tensorboard<2.9,>=2.8->tensorflow) (1.35.0)\n",
            "Requirement already satisfied: google-auth-oauthlib<0.5,>=0.4.1 in /usr/local/lib/python3.7/dist-packages (from tensorboard<2.9,>=2.8->tensorflow) (0.4.6)\n",
            "Requirement already satisfied: rsa<5,>=3.1.4 in /usr/local/lib/python3.7/dist-packages (from google-auth<3,>=1.6.3->tensorboard<2.9,>=2.8->tensorflow) (4.8)\n",
            "Requirement already satisfied: cachetools<5.0,>=2.0.0 in /usr/local/lib/python3.7/dist-packages (from google-auth<3,>=1.6.3->tensorboard<2.9,>=2.8->tensorflow) (4.2.4)\n",
            "Requirement already satisfied: pyasn1-modules>=0.2.1 in /usr/local/lib/python3.7/dist-packages (from google-auth<3,>=1.6.3->tensorboard<2.9,>=2.8->tensorflow) (0.2.8)\n",
            "Requirement already satisfied: requests-oauthlib>=0.7.0 in /usr/local/lib/python3.7/dist-packages (from google-auth-oauthlib<0.5,>=0.4.1->tensorboard<2.9,>=2.8->tensorflow) (1.3.1)\n",
            "Requirement already satisfied: importlib-metadata>=4.4 in /usr/local/lib/python3.7/dist-packages (from markdown>=2.6.8->tensorboard<2.9,>=2.8->tensorflow) (4.11.0)\n",
            "Requirement already satisfied: zipp>=0.5 in /usr/local/lib/python3.7/dist-packages (from importlib-metadata>=4.4->markdown>=2.6.8->tensorboard<2.9,>=2.8->tensorflow) (3.7.0)\n",
            "Requirement already satisfied: pyasn1<0.5.0,>=0.4.6 in /usr/local/lib/python3.7/dist-packages (from pyasn1-modules>=0.2.1->google-auth<3,>=1.6.3->tensorboard<2.9,>=2.8->tensorflow) (0.4.8)\n",
            "Requirement already satisfied: chardet<4,>=3.0.2 in /usr/local/lib/python3.7/dist-packages (from requests<3,>=2.21.0->tensorboard<2.9,>=2.8->tensorflow) (3.0.4)\n",
            "Requirement already satisfied: urllib3!=1.25.0,!=1.25.1,<1.26,>=1.21.1 in /usr/local/lib/python3.7/dist-packages (from requests<3,>=2.21.0->tensorboard<2.9,>=2.8->tensorflow) (1.24.3)\n",
            "Requirement already satisfied: idna<3,>=2.5 in /usr/local/lib/python3.7/dist-packages (from requests<3,>=2.21.0->tensorboard<2.9,>=2.8->tensorflow) (2.10)\n",
            "Requirement already satisfied: certifi>=2017.4.17 in /usr/local/lib/python3.7/dist-packages (from requests<3,>=2.21.0->tensorboard<2.9,>=2.8->tensorflow) (2021.10.8)\n",
            "Requirement already satisfied: oauthlib>=3.0.0 in /usr/local/lib/python3.7/dist-packages (from requests-oauthlib>=0.7.0->google-auth-oauthlib<0.5,>=0.4.1->tensorboard<2.9,>=2.8->tensorflow) (3.2.0)\n",
            "Installing collected packages: tf-estimator-nightly\n",
            "Successfully installed tf-estimator-nightly-2.8.0.dev2021122109\n"
          ]
        }
      ],
      "source": [
        "!pip install tensorflow"
      ]
    },
    {
      "cell_type": "code",
      "execution_count": null,
      "metadata": {
        "colab": {
          "base_uri": "https://localhost:8080/"
        },
        "id": "boOPAZc9An5C",
        "outputId": "d6178fc5-0955-4537-b74b-8b8d60017214"
      },
      "outputs": [
        {
          "name": "stdout",
          "output_type": "stream",
          "text": [
            "Requirement already satisfied: keras in /usr/local/lib/python3.7/dist-packages (2.8.0)\n"
          ]
        }
      ],
      "source": [
        "!pip install keras"
      ]
    },
    {
      "cell_type": "code",
      "execution_count": null,
      "metadata": {
        "id": "IBmvs4fv9fLB"
      },
      "outputs": [],
      "source": [
        "from tensorflow.keras.models import Model\n",
        "from tensorflow.keras.layers import Reshape, Dense, Lambda\n",
        "from tensorflow.keras.losses import MeanSquaredError\n",
        "from sklearn.neural_network import MLPRegressor"
      ]
    },
    {
      "cell_type": "code",
      "execution_count": null,
      "metadata": {
        "id": "BpqXTDLjARrD"
      },
      "outputs": [],
      "source": [
        "import math\n",
        "import pandas as pd\n",
        "import tensorflow as tf\n",
        "#import kerastuner.tuners as kt\n",
        "import matplotlib.pyplot as plt\n",
        "from tensorflow.keras import Model\n",
        "from tensorflow.keras import Sequential\n",
        "from sklearn.preprocessing import StandardScaler\n",
        "from tensorflow.keras.layers import Dense, Dropout\n",
        "from sklearn.model_selection import train_test_split\n",
        "from tensorflow.keras.losses import MeanSquaredLogarithmicError"
      ]
    },
    {
      "cell_type": "code",
      "execution_count": null,
      "metadata": {
        "colab": {
          "base_uri": "https://localhost:8080/",
          "height": 317
        },
        "id": "RQCkuh32_P4D",
        "outputId": "2109af76-d048-49e4-9afb-e5d886c766ad"
      },
      "outputs": [
        {
          "data": {
            "text/html": [
              "\n",
              "  <div id=\"df-f090225e-62d4-4c68-90a7-bc6a3b2e16d2\">\n",
              "    <div class=\"colab-df-container\">\n",
              "      <div>\n",
              "<style scoped>\n",
              "    .dataframe tbody tr th:only-of-type {\n",
              "        vertical-align: middle;\n",
              "    }\n",
              "\n",
              "    .dataframe tbody tr th {\n",
              "        vertical-align: top;\n",
              "    }\n",
              "\n",
              "    .dataframe thead th {\n",
              "        text-align: right;\n",
              "    }\n",
              "</style>\n",
              "<table border=\"1\" class=\"dataframe\">\n",
              "  <thead>\n",
              "    <tr style=\"text-align: right;\">\n",
              "      <th></th>\n",
              "      <th>Unnamed: 0</th>\n",
              "      <th>0</th>\n",
              "      <th>1</th>\n",
              "      <th>2</th>\n",
              "      <th>3</th>\n",
              "      <th>4</th>\n",
              "      <th>5</th>\n",
              "      <th>6</th>\n",
              "      <th>7</th>\n",
              "      <th>8</th>\n",
              "      <th>9</th>\n",
              "      <th>10</th>\n",
              "      <th>11</th>\n",
              "      <th>12</th>\n",
              "      <th>13</th>\n",
              "      <th>14</th>\n",
              "      <th>15</th>\n",
              "      <th>16</th>\n",
              "      <th>17</th>\n",
              "      <th>18</th>\n",
              "      <th>19</th>\n",
              "      <th>20</th>\n",
              "      <th>21</th>\n",
              "      <th>22</th>\n",
              "      <th>23</th>\n",
              "      <th>24</th>\n",
              "      <th>25</th>\n",
              "      <th>26</th>\n",
              "      <th>27</th>\n",
              "      <th>28</th>\n",
              "      <th>29</th>\n",
              "      <th>30</th>\n",
              "      <th>31</th>\n",
              "      <th>32</th>\n",
              "      <th>33</th>\n",
              "      <th>34</th>\n",
              "      <th>35</th>\n",
              "      <th>36</th>\n",
              "      <th>37</th>\n",
              "      <th>38</th>\n",
              "      <th>...</th>\n",
              "      <th>261</th>\n",
              "      <th>262</th>\n",
              "      <th>263</th>\n",
              "      <th>264</th>\n",
              "      <th>265</th>\n",
              "      <th>266</th>\n",
              "      <th>267</th>\n",
              "      <th>268</th>\n",
              "      <th>269</th>\n",
              "      <th>270</th>\n",
              "      <th>271</th>\n",
              "      <th>272</th>\n",
              "      <th>273</th>\n",
              "      <th>274</th>\n",
              "      <th>275</th>\n",
              "      <th>276</th>\n",
              "      <th>277</th>\n",
              "      <th>278</th>\n",
              "      <th>279</th>\n",
              "      <th>280</th>\n",
              "      <th>281</th>\n",
              "      <th>282</th>\n",
              "      <th>283</th>\n",
              "      <th>284</th>\n",
              "      <th>285</th>\n",
              "      <th>286</th>\n",
              "      <th>287</th>\n",
              "      <th>288</th>\n",
              "      <th>289</th>\n",
              "      <th>290</th>\n",
              "      <th>291</th>\n",
              "      <th>292</th>\n",
              "      <th>293</th>\n",
              "      <th>294</th>\n",
              "      <th>295</th>\n",
              "      <th>296</th>\n",
              "      <th>297</th>\n",
              "      <th>298</th>\n",
              "      <th>299</th>\n",
              "      <th>Level</th>\n",
              "    </tr>\n",
              "  </thead>\n",
              "  <tbody>\n",
              "    <tr>\n",
              "      <th>0</th>\n",
              "      <td>0</td>\n",
              "      <td>-0.033060</td>\n",
              "      <td>0.012716</td>\n",
              "      <td>-0.066499</td>\n",
              "      <td>0.003662</td>\n",
              "      <td>0.030556</td>\n",
              "      <td>0.066100</td>\n",
              "      <td>0.002122</td>\n",
              "      <td>-0.045769</td>\n",
              "      <td>0.100774</td>\n",
              "      <td>0.020540</td>\n",
              "      <td>0.003119</td>\n",
              "      <td>-0.043901</td>\n",
              "      <td>0.049941</td>\n",
              "      <td>0.013481</td>\n",
              "      <td>0.015846</td>\n",
              "      <td>0.055594</td>\n",
              "      <td>-0.017490</td>\n",
              "      <td>0.025826</td>\n",
              "      <td>-0.023179</td>\n",
              "      <td>0.052326</td>\n",
              "      <td>0.023097</td>\n",
              "      <td>-0.130174</td>\n",
              "      <td>0.016110</td>\n",
              "      <td>-0.028276</td>\n",
              "      <td>-0.058068</td>\n",
              "      <td>-0.005160</td>\n",
              "      <td>0.039490</td>\n",
              "      <td>0.135469</td>\n",
              "      <td>0.020103</td>\n",
              "      <td>-0.068572</td>\n",
              "      <td>0.021159</td>\n",
              "      <td>0.035191</td>\n",
              "      <td>-0.003069</td>\n",
              "      <td>-0.021797</td>\n",
              "      <td>0.018375</td>\n",
              "      <td>0.004572</td>\n",
              "      <td>-0.006446</td>\n",
              "      <td>0.010003</td>\n",
              "      <td>0.066546</td>\n",
              "      <td>...</td>\n",
              "      <td>-0.002143</td>\n",
              "      <td>-0.022934</td>\n",
              "      <td>0.029262</td>\n",
              "      <td>-0.214254</td>\n",
              "      <td>0.016754</td>\n",
              "      <td>0.025165</td>\n",
              "      <td>0.002526</td>\n",
              "      <td>0.032685</td>\n",
              "      <td>-0.015460</td>\n",
              "      <td>0.002853</td>\n",
              "      <td>0.034788</td>\n",
              "      <td>0.012566</td>\n",
              "      <td>0.043834</td>\n",
              "      <td>0.012521</td>\n",
              "      <td>0.023793</td>\n",
              "      <td>-0.080284</td>\n",
              "      <td>-0.080553</td>\n",
              "      <td>0.026315</td>\n",
              "      <td>0.034178</td>\n",
              "      <td>0.022269</td>\n",
              "      <td>0.109729</td>\n",
              "      <td>0.005418</td>\n",
              "      <td>-0.022737</td>\n",
              "      <td>0.015379</td>\n",
              "      <td>-0.040534</td>\n",
              "      <td>0.100651</td>\n",
              "      <td>0.007749</td>\n",
              "      <td>0.003031</td>\n",
              "      <td>0.048259</td>\n",
              "      <td>-0.026588</td>\n",
              "      <td>0.036143</td>\n",
              "      <td>-0.010381</td>\n",
              "      <td>0.048068</td>\n",
              "      <td>0.038351</td>\n",
              "      <td>0.033554</td>\n",
              "      <td>-0.008644</td>\n",
              "      <td>-0.041012</td>\n",
              "      <td>0.024126</td>\n",
              "      <td>-0.003468</td>\n",
              "      <td>5</td>\n",
              "    </tr>\n",
              "    <tr>\n",
              "      <th>1</th>\n",
              "      <td>1</td>\n",
              "      <td>-0.101459</td>\n",
              "      <td>0.011697</td>\n",
              "      <td>-0.081979</td>\n",
              "      <td>-0.032010</td>\n",
              "      <td>0.048881</td>\n",
              "      <td>0.061566</td>\n",
              "      <td>0.011028</td>\n",
              "      <td>-0.041976</td>\n",
              "      <td>0.118157</td>\n",
              "      <td>0.023731</td>\n",
              "      <td>-0.024581</td>\n",
              "      <td>-0.039938</td>\n",
              "      <td>0.043259</td>\n",
              "      <td>-0.022140</td>\n",
              "      <td>-0.021141</td>\n",
              "      <td>0.048457</td>\n",
              "      <td>-0.009671</td>\n",
              "      <td>-0.008705</td>\n",
              "      <td>0.003395</td>\n",
              "      <td>0.089262</td>\n",
              "      <td>0.008786</td>\n",
              "      <td>-0.146443</td>\n",
              "      <td>-0.031900</td>\n",
              "      <td>-0.024614</td>\n",
              "      <td>-0.092716</td>\n",
              "      <td>-0.040516</td>\n",
              "      <td>0.052102</td>\n",
              "      <td>0.165233</td>\n",
              "      <td>0.055653</td>\n",
              "      <td>-0.088369</td>\n",
              "      <td>0.035067</td>\n",
              "      <td>0.010969</td>\n",
              "      <td>0.009700</td>\n",
              "      <td>-0.021340</td>\n",
              "      <td>0.078366</td>\n",
              "      <td>0.030166</td>\n",
              "      <td>-0.007681</td>\n",
              "      <td>0.032590</td>\n",
              "      <td>0.045247</td>\n",
              "      <td>...</td>\n",
              "      <td>-0.016057</td>\n",
              "      <td>-0.003066</td>\n",
              "      <td>0.026505</td>\n",
              "      <td>-0.285426</td>\n",
              "      <td>0.032012</td>\n",
              "      <td>0.056640</td>\n",
              "      <td>-0.019853</td>\n",
              "      <td>0.050302</td>\n",
              "      <td>-0.024036</td>\n",
              "      <td>-0.000457</td>\n",
              "      <td>0.029474</td>\n",
              "      <td>0.018674</td>\n",
              "      <td>0.066436</td>\n",
              "      <td>-0.004560</td>\n",
              "      <td>-0.001376</td>\n",
              "      <td>-0.090407</td>\n",
              "      <td>-0.109616</td>\n",
              "      <td>0.045978</td>\n",
              "      <td>0.023588</td>\n",
              "      <td>0.002541</td>\n",
              "      <td>0.086752</td>\n",
              "      <td>-0.000679</td>\n",
              "      <td>-0.035624</td>\n",
              "      <td>-0.003041</td>\n",
              "      <td>-0.038903</td>\n",
              "      <td>0.119217</td>\n",
              "      <td>-0.004662</td>\n",
              "      <td>-0.001003</td>\n",
              "      <td>0.039547</td>\n",
              "      <td>0.005466</td>\n",
              "      <td>0.016448</td>\n",
              "      <td>0.007195</td>\n",
              "      <td>0.060026</td>\n",
              "      <td>0.033598</td>\n",
              "      <td>0.027974</td>\n",
              "      <td>0.020221</td>\n",
              "      <td>-0.020988</td>\n",
              "      <td>-0.017419</td>\n",
              "      <td>0.010876</td>\n",
              "      <td>5</td>\n",
              "    </tr>\n",
              "    <tr>\n",
              "      <th>2</th>\n",
              "      <td>2</td>\n",
              "      <td>-0.091296</td>\n",
              "      <td>0.029833</td>\n",
              "      <td>-0.096026</td>\n",
              "      <td>-0.049331</td>\n",
              "      <td>0.049579</td>\n",
              "      <td>0.051831</td>\n",
              "      <td>0.010815</td>\n",
              "      <td>-0.053386</td>\n",
              "      <td>0.141332</td>\n",
              "      <td>0.032405</td>\n",
              "      <td>-0.016584</td>\n",
              "      <td>-0.038277</td>\n",
              "      <td>0.053828</td>\n",
              "      <td>-0.035082</td>\n",
              "      <td>-0.034811</td>\n",
              "      <td>0.057767</td>\n",
              "      <td>-0.019344</td>\n",
              "      <td>-0.044332</td>\n",
              "      <td>-0.021840</td>\n",
              "      <td>0.108087</td>\n",
              "      <td>0.002107</td>\n",
              "      <td>-0.140586</td>\n",
              "      <td>-0.025884</td>\n",
              "      <td>-0.015824</td>\n",
              "      <td>-0.088974</td>\n",
              "      <td>-0.074600</td>\n",
              "      <td>0.027448</td>\n",
              "      <td>0.173239</td>\n",
              "      <td>0.043674</td>\n",
              "      <td>-0.108042</td>\n",
              "      <td>0.040582</td>\n",
              "      <td>0.052190</td>\n",
              "      <td>-0.009247</td>\n",
              "      <td>-0.042035</td>\n",
              "      <td>0.074126</td>\n",
              "      <td>0.047275</td>\n",
              "      <td>-0.000460</td>\n",
              "      <td>0.043591</td>\n",
              "      <td>0.065654</td>\n",
              "      <td>...</td>\n",
              "      <td>-0.027740</td>\n",
              "      <td>0.007475</td>\n",
              "      <td>0.014177</td>\n",
              "      <td>-0.321502</td>\n",
              "      <td>0.073183</td>\n",
              "      <td>0.049807</td>\n",
              "      <td>-0.024530</td>\n",
              "      <td>0.032729</td>\n",
              "      <td>-0.027436</td>\n",
              "      <td>-0.025004</td>\n",
              "      <td>0.024817</td>\n",
              "      <td>0.033022</td>\n",
              "      <td>0.061907</td>\n",
              "      <td>-0.029352</td>\n",
              "      <td>0.002212</td>\n",
              "      <td>-0.108666</td>\n",
              "      <td>-0.103559</td>\n",
              "      <td>0.043361</td>\n",
              "      <td>0.048481</td>\n",
              "      <td>0.023762</td>\n",
              "      <td>0.075788</td>\n",
              "      <td>0.006216</td>\n",
              "      <td>-0.029184</td>\n",
              "      <td>0.038546</td>\n",
              "      <td>-0.052259</td>\n",
              "      <td>0.172130</td>\n",
              "      <td>-0.003063</td>\n",
              "      <td>0.005931</td>\n",
              "      <td>0.023898</td>\n",
              "      <td>0.022366</td>\n",
              "      <td>0.017215</td>\n",
              "      <td>-0.009071</td>\n",
              "      <td>0.061168</td>\n",
              "      <td>0.018065</td>\n",
              "      <td>0.037406</td>\n",
              "      <td>-0.008278</td>\n",
              "      <td>-0.042560</td>\n",
              "      <td>-0.023389</td>\n",
              "      <td>0.003145</td>\n",
              "      <td>5</td>\n",
              "    </tr>\n",
              "    <tr>\n",
              "      <th>3</th>\n",
              "      <td>3</td>\n",
              "      <td>-0.066093</td>\n",
              "      <td>0.019570</td>\n",
              "      <td>-0.102819</td>\n",
              "      <td>-0.028517</td>\n",
              "      <td>0.008690</td>\n",
              "      <td>0.052083</td>\n",
              "      <td>-0.011769</td>\n",
              "      <td>-0.064647</td>\n",
              "      <td>0.135179</td>\n",
              "      <td>0.050548</td>\n",
              "      <td>-0.001637</td>\n",
              "      <td>-0.077104</td>\n",
              "      <td>0.042167</td>\n",
              "      <td>-0.014062</td>\n",
              "      <td>-0.006497</td>\n",
              "      <td>0.072391</td>\n",
              "      <td>-0.028374</td>\n",
              "      <td>-0.002948</td>\n",
              "      <td>-0.021154</td>\n",
              "      <td>0.072558</td>\n",
              "      <td>-0.000597</td>\n",
              "      <td>-0.171696</td>\n",
              "      <td>-0.008392</td>\n",
              "      <td>-0.024493</td>\n",
              "      <td>-0.094093</td>\n",
              "      <td>-0.056593</td>\n",
              "      <td>0.029136</td>\n",
              "      <td>0.186218</td>\n",
              "      <td>0.024578</td>\n",
              "      <td>-0.096364</td>\n",
              "      <td>0.043785</td>\n",
              "      <td>0.043573</td>\n",
              "      <td>0.016563</td>\n",
              "      <td>-0.037178</td>\n",
              "      <td>0.045534</td>\n",
              "      <td>0.043531</td>\n",
              "      <td>-0.011464</td>\n",
              "      <td>0.015387</td>\n",
              "      <td>0.098797</td>\n",
              "      <td>...</td>\n",
              "      <td>-0.001579</td>\n",
              "      <td>-0.029289</td>\n",
              "      <td>0.021407</td>\n",
              "      <td>-0.284922</td>\n",
              "      <td>0.061069</td>\n",
              "      <td>0.064145</td>\n",
              "      <td>0.002590</td>\n",
              "      <td>0.065324</td>\n",
              "      <td>-0.020008</td>\n",
              "      <td>-0.010930</td>\n",
              "      <td>0.048726</td>\n",
              "      <td>0.014657</td>\n",
              "      <td>0.041447</td>\n",
              "      <td>-0.016356</td>\n",
              "      <td>0.024251</td>\n",
              "      <td>-0.099843</td>\n",
              "      <td>-0.100953</td>\n",
              "      <td>0.043918</td>\n",
              "      <td>0.055879</td>\n",
              "      <td>0.005967</td>\n",
              "      <td>0.114436</td>\n",
              "      <td>-0.022218</td>\n",
              "      <td>-0.027037</td>\n",
              "      <td>0.019749</td>\n",
              "      <td>-0.039922</td>\n",
              "      <td>0.167807</td>\n",
              "      <td>0.014118</td>\n",
              "      <td>0.026609</td>\n",
              "      <td>0.040090</td>\n",
              "      <td>-0.005115</td>\n",
              "      <td>0.041151</td>\n",
              "      <td>-0.017740</td>\n",
              "      <td>0.058753</td>\n",
              "      <td>0.052343</td>\n",
              "      <td>0.040280</td>\n",
              "      <td>-0.029016</td>\n",
              "      <td>-0.045978</td>\n",
              "      <td>-0.023160</td>\n",
              "      <td>0.010299</td>\n",
              "      <td>5</td>\n",
              "    </tr>\n",
              "    <tr>\n",
              "      <th>4</th>\n",
              "      <td>4</td>\n",
              "      <td>-0.038310</td>\n",
              "      <td>0.019421</td>\n",
              "      <td>-0.026648</td>\n",
              "      <td>0.002886</td>\n",
              "      <td>0.068855</td>\n",
              "      <td>0.084076</td>\n",
              "      <td>0.016979</td>\n",
              "      <td>-0.048769</td>\n",
              "      <td>0.113452</td>\n",
              "      <td>0.015186</td>\n",
              "      <td>-0.025362</td>\n",
              "      <td>-0.024607</td>\n",
              "      <td>0.051134</td>\n",
              "      <td>0.018531</td>\n",
              "      <td>-0.001772</td>\n",
              "      <td>0.069869</td>\n",
              "      <td>-0.005969</td>\n",
              "      <td>-0.012393</td>\n",
              "      <td>0.008597</td>\n",
              "      <td>0.061897</td>\n",
              "      <td>0.029390</td>\n",
              "      <td>-0.106528</td>\n",
              "      <td>0.017183</td>\n",
              "      <td>-0.030321</td>\n",
              "      <td>-0.063776</td>\n",
              "      <td>0.006783</td>\n",
              "      <td>0.043931</td>\n",
              "      <td>0.145445</td>\n",
              "      <td>0.049679</td>\n",
              "      <td>-0.090855</td>\n",
              "      <td>0.014155</td>\n",
              "      <td>0.023572</td>\n",
              "      <td>-0.028607</td>\n",
              "      <td>-0.008641</td>\n",
              "      <td>0.025110</td>\n",
              "      <td>0.006521</td>\n",
              "      <td>0.029883</td>\n",
              "      <td>0.014800</td>\n",
              "      <td>0.030038</td>\n",
              "      <td>...</td>\n",
              "      <td>-0.022610</td>\n",
              "      <td>-0.012559</td>\n",
              "      <td>0.027045</td>\n",
              "      <td>-0.204472</td>\n",
              "      <td>-0.003048</td>\n",
              "      <td>-0.006390</td>\n",
              "      <td>-0.035445</td>\n",
              "      <td>0.068545</td>\n",
              "      <td>-0.007783</td>\n",
              "      <td>0.011034</td>\n",
              "      <td>0.025510</td>\n",
              "      <td>0.009338</td>\n",
              "      <td>0.028490</td>\n",
              "      <td>0.036424</td>\n",
              "      <td>0.034066</td>\n",
              "      <td>-0.073355</td>\n",
              "      <td>-0.065438</td>\n",
              "      <td>0.004297</td>\n",
              "      <td>0.017776</td>\n",
              "      <td>-0.017472</td>\n",
              "      <td>0.090300</td>\n",
              "      <td>0.020455</td>\n",
              "      <td>-0.020234</td>\n",
              "      <td>-0.000531</td>\n",
              "      <td>-0.025717</td>\n",
              "      <td>0.079562</td>\n",
              "      <td>-0.001203</td>\n",
              "      <td>-0.020483</td>\n",
              "      <td>0.052869</td>\n",
              "      <td>-0.011803</td>\n",
              "      <td>0.048976</td>\n",
              "      <td>0.008110</td>\n",
              "      <td>0.051397</td>\n",
              "      <td>-0.007055</td>\n",
              "      <td>0.024117</td>\n",
              "      <td>0.011245</td>\n",
              "      <td>-0.054779</td>\n",
              "      <td>0.033272</td>\n",
              "      <td>0.004069</td>\n",
              "      <td>2</td>\n",
              "    </tr>\n",
              "  </tbody>\n",
              "</table>\n",
              "<p>5 rows × 302 columns</p>\n",
              "</div>\n",
              "      <button class=\"colab-df-convert\" onclick=\"convertToInteractive('df-f090225e-62d4-4c68-90a7-bc6a3b2e16d2')\"\n",
              "              title=\"Convert this dataframe to an interactive table.\"\n",
              "              style=\"display:none;\">\n",
              "        \n",
              "  <svg xmlns=\"http://www.w3.org/2000/svg\" height=\"24px\"viewBox=\"0 0 24 24\"\n",
              "       width=\"24px\">\n",
              "    <path d=\"M0 0h24v24H0V0z\" fill=\"none\"/>\n",
              "    <path d=\"M18.56 5.44l.94 2.06.94-2.06 2.06-.94-2.06-.94-.94-2.06-.94 2.06-2.06.94zm-11 1L8.5 8.5l.94-2.06 2.06-.94-2.06-.94L8.5 2.5l-.94 2.06-2.06.94zm10 10l.94 2.06.94-2.06 2.06-.94-2.06-.94-.94-2.06-.94 2.06-2.06.94z\"/><path d=\"M17.41 7.96l-1.37-1.37c-.4-.4-.92-.59-1.43-.59-.52 0-1.04.2-1.43.59L10.3 9.45l-7.72 7.72c-.78.78-.78 2.05 0 2.83L4 21.41c.39.39.9.59 1.41.59.51 0 1.02-.2 1.41-.59l7.78-7.78 2.81-2.81c.8-.78.8-2.07 0-2.86zM5.41 20L4 18.59l7.72-7.72 1.47 1.35L5.41 20z\"/>\n",
              "  </svg>\n",
              "      </button>\n",
              "      \n",
              "  <style>\n",
              "    .colab-df-container {\n",
              "      display:flex;\n",
              "      flex-wrap:wrap;\n",
              "      gap: 12px;\n",
              "    }\n",
              "\n",
              "    .colab-df-convert {\n",
              "      background-color: #E8F0FE;\n",
              "      border: none;\n",
              "      border-radius: 50%;\n",
              "      cursor: pointer;\n",
              "      display: none;\n",
              "      fill: #1967D2;\n",
              "      height: 32px;\n",
              "      padding: 0 0 0 0;\n",
              "      width: 32px;\n",
              "    }\n",
              "\n",
              "    .colab-df-convert:hover {\n",
              "      background-color: #E2EBFA;\n",
              "      box-shadow: 0px 1px 2px rgba(60, 64, 67, 0.3), 0px 1px 3px 1px rgba(60, 64, 67, 0.15);\n",
              "      fill: #174EA6;\n",
              "    }\n",
              "\n",
              "    [theme=dark] .colab-df-convert {\n",
              "      background-color: #3B4455;\n",
              "      fill: #D2E3FC;\n",
              "    }\n",
              "\n",
              "    [theme=dark] .colab-df-convert:hover {\n",
              "      background-color: #434B5C;\n",
              "      box-shadow: 0px 1px 3px 1px rgba(0, 0, 0, 0.15);\n",
              "      filter: drop-shadow(0px 1px 2px rgba(0, 0, 0, 0.3));\n",
              "      fill: #FFFFFF;\n",
              "    }\n",
              "  </style>\n",
              "\n",
              "      <script>\n",
              "        const buttonEl =\n",
              "          document.querySelector('#df-f090225e-62d4-4c68-90a7-bc6a3b2e16d2 button.colab-df-convert');\n",
              "        buttonEl.style.display =\n",
              "          google.colab.kernel.accessAllowed ? 'block' : 'none';\n",
              "\n",
              "        async function convertToInteractive(key) {\n",
              "          const element = document.querySelector('#df-f090225e-62d4-4c68-90a7-bc6a3b2e16d2');\n",
              "          const dataTable =\n",
              "            await google.colab.kernel.invokeFunction('convertToInteractive',\n",
              "                                                     [key], {});\n",
              "          if (!dataTable) return;\n",
              "\n",
              "          const docLinkHtml = 'Like what you see? Visit the ' +\n",
              "            '<a target=\"_blank\" href=https://colab.research.google.com/notebooks/data_table.ipynb>data table notebook</a>'\n",
              "            + ' to learn more about interactive tables.';\n",
              "          element.innerHTML = '';\n",
              "          dataTable['output_type'] = 'display_data';\n",
              "          await google.colab.output.renderOutput(dataTable, element);\n",
              "          const docLink = document.createElement('div');\n",
              "          docLink.innerHTML = docLinkHtml;\n",
              "          element.appendChild(docLink);\n",
              "        }\n",
              "      </script>\n",
              "    </div>\n",
              "  </div>\n",
              "  "
            ],
            "text/plain": [
              "   Unnamed: 0         0         1  ...       298       299  Level\n",
              "0           0 -0.033060  0.012716  ...  0.024126 -0.003468      5\n",
              "1           1 -0.101459  0.011697  ... -0.017419  0.010876      5\n",
              "2           2 -0.091296  0.029833  ... -0.023389  0.003145      5\n",
              "3           3 -0.066093  0.019570  ... -0.023160  0.010299      5\n",
              "4           4 -0.038310  0.019421  ...  0.033272  0.004069      2\n",
              "\n",
              "[5 rows x 302 columns]"
            ]
          },
          "execution_count": 10,
          "metadata": {},
          "output_type": "execute_result"
        }
      ],
      "source": [
        "path = \"/content/drive/MyDrive/PTV Sir Project/FastText_algebra_with_levels.csv\"\n",
        "dataset = pd.read_csv(path)\n",
        "dataset.head()"
      ]
    },
    {
      "cell_type": "code",
      "execution_count": null,
      "metadata": {
        "id": "uCdjxeEx_Ud9"
      },
      "outputs": [],
      "source": [
        "def PreProcessing(dataset):\n",
        "  #Remove First row (Indexing from Excel)\n",
        "  dataset = dataset.iloc[:, 1:] \n",
        "  \n",
        "  #Shuffling\n",
        "  dataset = dataset.sample(frac = 1) #frac denotes the fraction of samples to be returned. \n",
        "\n",
        "  # distributing the dataset into two components X and Y\n",
        "  X = dataset.iloc[:, 0:-1].values\n",
        "  y = dataset.iloc[:, -1].values\n",
        "\n",
        "  #Scaling (Standardization)\n",
        "  sc = StandardScaler()\n",
        "  X = sc.fit_transform(X)\n",
        "\n",
        "  print(X.shape)\n",
        "  print(y.shape)\n",
        "  return X, y"
      ]
    },
    {
      "cell_type": "code",
      "execution_count": null,
      "metadata": {
        "colab": {
          "base_uri": "https://localhost:8080/"
        },
        "id": "mS3qt281_U5e",
        "outputId": "54349c79-1694-4d3f-9df8-6dfc7df540da"
      },
      "outputs": [
        {
          "name": "stdout",
          "output_type": "stream",
          "text": [
            "(1744, 300)\n",
            "(1744,)\n"
          ]
        }
      ],
      "source": [
        "X, y = PreProcessing(dataset)"
      ]
    },
    {
      "cell_type": "code",
      "execution_count": null,
      "metadata": {
        "id": "bQdsJZmJBAvA"
      },
      "outputs": [],
      "source": [
        "autoencoder = MLPRegressor(alpha = 1e-15,hidden_layer_sizes=(1744,3488,1744,20,1744,3488,300)\n",
        "                          , random_state=1,max_iter=20000)\n",
        "autoencoder.fit(X,X)"
      ]
    },
    {
      "cell_type": "code",
      "execution_count": null,
      "metadata": {
        "id": "kagwh-s5CuwS"
      },
      "outputs": [],
      "source": [
        "L= autoencoder.coefs_"
      ]
    },
    {
      "cell_type": "code",
      "execution_count": null,
      "metadata": {
        "id": "a6D7HIgqDBsk"
      },
      "outputs": [],
      "source": [
        "biases = autoencoder.intercepts_"
      ]
    },
    {
      "cell_type": "code",
      "execution_count": null,
      "metadata": {
        "id": "7uX-vQofDDkd"
      },
      "outputs": [],
      "source": [
        "i = 0\n",
        "for l in L:\n",
        "    print(l.shape)\n",
        "    if i==3: \n",
        "      print(l)\n",
        "    i = i+1"
      ]
    },
    {
      "cell_type": "code",
      "execution_count": null,
      "metadata": {
        "id": "XVDG4ADqDFNR"
      },
      "outputs": [],
      "source": [
        "L[3].shape"
      ]
    },
    {
      "cell_type": "code",
      "execution_count": null,
      "metadata": {
        "id": "05-IGrdZD8CV"
      },
      "outputs": [],
      "source": [
        "from google.colab import files"
      ]
    },
    {
      "cell_type": "code",
      "execution_count": null,
      "metadata": {
        "id": "7BLAKMrLUF3w"
      },
      "outputs": [],
      "source": [
        "df1 = pd.DataFrame(L[3])\n",
        "df1"
      ]
    },
    {
      "cell_type": "code",
      "execution_count": null,
      "metadata": {
        "id": "1tGiGmelUc1r"
      },
      "outputs": [],
      "source": [
        "df1.to_csv('2.csv') \n",
        "files.download('2.csv')"
      ]
    },
    {
      "cell_type": "markdown",
      "metadata": {
        "id": "qSV4IjRtU3Qf"
      },
      "source": [
        "## Repeat for all word embeddings"
      ]
    },
    {
      "cell_type": "code",
      "execution_count": 15,
      "metadata": {
        "colab": {
          "base_uri": "https://localhost:8080/",
          "height": 51
        },
        "id": "hTQA_cgcUj0y",
        "outputId": "9a78766c-3f05-428c-a813-d9b2a367dd3a"
      },
      "outputs": [
        {
          "output_type": "stream",
          "name": "stdout",
          "text": [
            "(1744, 768)\n",
            "(1744,)\n"
          ]
        },
        {
          "output_type": "display_data",
          "data": {
            "application/javascript": [
              "\n",
              "    async function download(id, filename, size) {\n",
              "      if (!google.colab.kernel.accessAllowed) {\n",
              "        return;\n",
              "      }\n",
              "      const div = document.createElement('div');\n",
              "      const label = document.createElement('label');\n",
              "      label.textContent = `Downloading \"${filename}\": `;\n",
              "      div.appendChild(label);\n",
              "      const progress = document.createElement('progress');\n",
              "      progress.max = size;\n",
              "      div.appendChild(progress);\n",
              "      document.body.appendChild(div);\n",
              "\n",
              "      const buffers = [];\n",
              "      let downloaded = 0;\n",
              "\n",
              "      const channel = await google.colab.kernel.comms.open(id);\n",
              "      // Send a message to notify the kernel that we're ready.\n",
              "      channel.send({})\n",
              "\n",
              "      for await (const message of channel.messages) {\n",
              "        // Send a message to notify the kernel that we're ready.\n",
              "        channel.send({})\n",
              "        if (message.buffers) {\n",
              "          for (const buffer of message.buffers) {\n",
              "            buffers.push(buffer);\n",
              "            downloaded += buffer.byteLength;\n",
              "            progress.value = downloaded;\n",
              "          }\n",
              "        }\n",
              "      }\n",
              "      const blob = new Blob(buffers, {type: 'application/binary'});\n",
              "      const a = document.createElement('a');\n",
              "      a.href = window.URL.createObjectURL(blob);\n",
              "      a.download = filename;\n",
              "      div.appendChild(a);\n",
              "      a.click();\n",
              "      div.remove();\n",
              "    }\n",
              "  "
            ],
            "text/plain": [
              "<IPython.core.display.Javascript object>"
            ]
          },
          "metadata": {}
        },
        {
          "output_type": "display_data",
          "data": {
            "application/javascript": [
              "download(\"download_7833c6f9-5e90-4691-b256-15be42f022e6\", \"1.csv\", 743026)"
            ],
            "text/plain": [
              "<IPython.core.display.Javascript object>"
            ]
          },
          "metadata": {}
        }
      ],
      "source": [
        "#BERT\n",
        "path = \"/content/drive/MyDrive/PTV Sir Project/BERT_algebra_with_levels.csv\"\n",
        "dataset = pd.read_csv(path)\n",
        "X, y = PreProcessing(dataset)\n",
        "autoencoder = MLPRegressor(alpha = 1e-15,hidden_layer_sizes=(1744,3488,1744,20,1744,3488,768)\n",
        "                          , random_state=1,max_iter=10000)\n",
        "autoencoder.fit(X,X)\n",
        "L= autoencoder.coefs_\n",
        "biases = autoencoder.intercepts_\n",
        "df1 = pd.DataFrame(L[3])\n",
        "df1.to_csv('1.csv') \n",
        "files.download('1.csv')"
      ]
    },
    {
      "cell_type": "code",
      "execution_count": 16,
      "metadata": {
        "colab": {
          "base_uri": "https://localhost:8080/",
          "height": 51
        },
        "id": "jsVOLOKrVAaN",
        "outputId": "213902ba-5788-4b31-961f-101895f0b7c5"
      },
      "outputs": [
        {
          "output_type": "stream",
          "name": "stdout",
          "text": [
            "(1744, 300)\n",
            "(1744,)\n"
          ]
        },
        {
          "output_type": "display_data",
          "data": {
            "application/javascript": [
              "\n",
              "    async function download(id, filename, size) {\n",
              "      if (!google.colab.kernel.accessAllowed) {\n",
              "        return;\n",
              "      }\n",
              "      const div = document.createElement('div');\n",
              "      const label = document.createElement('label');\n",
              "      label.textContent = `Downloading \"${filename}\": `;\n",
              "      div.appendChild(label);\n",
              "      const progress = document.createElement('progress');\n",
              "      progress.max = size;\n",
              "      div.appendChild(progress);\n",
              "      document.body.appendChild(div);\n",
              "\n",
              "      const buffers = [];\n",
              "      let downloaded = 0;\n",
              "\n",
              "      const channel = await google.colab.kernel.comms.open(id);\n",
              "      // Send a message to notify the kernel that we're ready.\n",
              "      channel.send({})\n",
              "\n",
              "      for await (const message of channel.messages) {\n",
              "        // Send a message to notify the kernel that we're ready.\n",
              "        channel.send({})\n",
              "        if (message.buffers) {\n",
              "          for (const buffer of message.buffers) {\n",
              "            buffers.push(buffer);\n",
              "            downloaded += buffer.byteLength;\n",
              "            progress.value = downloaded;\n",
              "          }\n",
              "        }\n",
              "      }\n",
              "      const blob = new Blob(buffers, {type: 'application/binary'});\n",
              "      const a = document.createElement('a');\n",
              "      a.href = window.URL.createObjectURL(blob);\n",
              "      a.download = filename;\n",
              "      div.appendChild(a);\n",
              "      a.click();\n",
              "      div.remove();\n",
              "    }\n",
              "  "
            ],
            "text/plain": [
              "<IPython.core.display.Javascript object>"
            ]
          },
          "metadata": {}
        },
        {
          "output_type": "display_data",
          "data": {
            "application/javascript": [
              "download(\"download_22a66c3f-7961-48a2-a4c6-4f2e468a5eeb\", \"3.csv\", 743999)"
            ],
            "text/plain": [
              "<IPython.core.display.Javascript object>"
            ]
          },
          "metadata": {}
        }
      ],
      "source": [
        "#Glove\n",
        "path = \"/content/drive/MyDrive/PTV Sir Project/Glove_algebra_with_levels.csv\"\n",
        "dataset = pd.read_csv(path)\n",
        "X, y = PreProcessing(dataset)\n",
        "autoencoder = MLPRegressor(alpha = 1e-15,hidden_layer_sizes=(1744,3488,1744,20,1744,3488,300)\n",
        "                          , random_state=1,max_iter=20000)\n",
        "autoencoder.fit(X,X)\n",
        "L= autoencoder.coefs_\n",
        "biases = autoencoder.intercepts_\n",
        "df1 = pd.DataFrame(L[3])\n",
        "df1.to_csv('3.csv') \n",
        "files.download('3.csv')"
      ]
    },
    {
      "cell_type": "code",
      "execution_count": 18,
      "metadata": {
        "id": "6CqkFrzVVAx4",
        "colab": {
          "base_uri": "https://localhost:8080/",
          "height": 51
        },
        "outputId": "89cbea54-5aff-4718-f518-9319de71c45d"
      },
      "outputs": [
        {
          "output_type": "stream",
          "name": "stdout",
          "text": [
            "(1744, 3500)\n",
            "(1744,)\n"
          ]
        },
        {
          "output_type": "display_data",
          "data": {
            "application/javascript": [
              "\n",
              "    async function download(id, filename, size) {\n",
              "      if (!google.colab.kernel.accessAllowed) {\n",
              "        return;\n",
              "      }\n",
              "      const div = document.createElement('div');\n",
              "      const label = document.createElement('label');\n",
              "      label.textContent = `Downloading \"${filename}\": `;\n",
              "      div.appendChild(label);\n",
              "      const progress = document.createElement('progress');\n",
              "      progress.max = size;\n",
              "      div.appendChild(progress);\n",
              "      document.body.appendChild(div);\n",
              "\n",
              "      const buffers = [];\n",
              "      let downloaded = 0;\n",
              "\n",
              "      const channel = await google.colab.kernel.comms.open(id);\n",
              "      // Send a message to notify the kernel that we're ready.\n",
              "      channel.send({})\n",
              "\n",
              "      for await (const message of channel.messages) {\n",
              "        // Send a message to notify the kernel that we're ready.\n",
              "        channel.send({})\n",
              "        if (message.buffers) {\n",
              "          for (const buffer of message.buffers) {\n",
              "            buffers.push(buffer);\n",
              "            downloaded += buffer.byteLength;\n",
              "            progress.value = downloaded;\n",
              "          }\n",
              "        }\n",
              "      }\n",
              "      const blob = new Blob(buffers, {type: 'application/binary'});\n",
              "      const a = document.createElement('a');\n",
              "      a.href = window.URL.createObjectURL(blob);\n",
              "      a.download = filename;\n",
              "      div.appendChild(a);\n",
              "      a.click();\n",
              "      div.remove();\n",
              "    }\n",
              "  "
            ],
            "text/plain": [
              "<IPython.core.display.Javascript object>"
            ]
          },
          "metadata": {}
        },
        {
          "output_type": "display_data",
          "data": {
            "application/javascript": [
              "download(\"download_309d14fb-fe62-4675-be53-7f1be842ff25\", \"4.csv\", 743472)"
            ],
            "text/plain": [
              "<IPython.core.display.Javascript object>"
            ]
          },
          "metadata": {}
        }
      ],
      "source": [
        "#TFIDF\n",
        "path = \"/content/drive/MyDrive/PTV Sir Project/tfidf_algebra_with_levels.csv\"\n",
        "dataset = pd.read_csv(path)\n",
        "X, y = PreProcessing(dataset)\n",
        "autoencoder = MLPRegressor(alpha = 1e-15,hidden_layer_sizes=(1744,3488,1744,20,1744,3488,3500)\n",
        "                          , random_state=1,max_iter=10000)\n",
        "autoencoder.fit(X,X)\n",
        "L= autoencoder.coefs_\n",
        "biases = autoencoder.intercepts_\n",
        "df1 = pd.DataFrame(L[3])\n",
        "df1.to_csv('4.csv') \n",
        "files.download('4.csv')"
      ]
    },
    {
      "cell_type": "code",
      "execution_count": 17,
      "metadata": {
        "id": "10GMKmQNVBIH",
        "colab": {
          "base_uri": "https://localhost:8080/",
          "height": 51
        },
        "outputId": "bf61db7d-1c10-43e5-d6d1-4255bc5b6bdb"
      },
      "outputs": [
        {
          "output_type": "stream",
          "name": "stdout",
          "text": [
            "(1744, 300)\n",
            "(1744,)\n"
          ]
        },
        {
          "output_type": "display_data",
          "data": {
            "application/javascript": [
              "\n",
              "    async function download(id, filename, size) {\n",
              "      if (!google.colab.kernel.accessAllowed) {\n",
              "        return;\n",
              "      }\n",
              "      const div = document.createElement('div');\n",
              "      const label = document.createElement('label');\n",
              "      label.textContent = `Downloading \"${filename}\": `;\n",
              "      div.appendChild(label);\n",
              "      const progress = document.createElement('progress');\n",
              "      progress.max = size;\n",
              "      div.appendChild(progress);\n",
              "      document.body.appendChild(div);\n",
              "\n",
              "      const buffers = [];\n",
              "      let downloaded = 0;\n",
              "\n",
              "      const channel = await google.colab.kernel.comms.open(id);\n",
              "      // Send a message to notify the kernel that we're ready.\n",
              "      channel.send({})\n",
              "\n",
              "      for await (const message of channel.messages) {\n",
              "        // Send a message to notify the kernel that we're ready.\n",
              "        channel.send({})\n",
              "        if (message.buffers) {\n",
              "          for (const buffer of message.buffers) {\n",
              "            buffers.push(buffer);\n",
              "            downloaded += buffer.byteLength;\n",
              "            progress.value = downloaded;\n",
              "          }\n",
              "        }\n",
              "      }\n",
              "      const blob = new Blob(buffers, {type: 'application/binary'});\n",
              "      const a = document.createElement('a');\n",
              "      a.href = window.URL.createObjectURL(blob);\n",
              "      a.download = filename;\n",
              "      div.appendChild(a);\n",
              "      a.click();\n",
              "      div.remove();\n",
              "    }\n",
              "  "
            ],
            "text/plain": [
              "<IPython.core.display.Javascript object>"
            ]
          },
          "metadata": {}
        },
        {
          "output_type": "display_data",
          "data": {
            "application/javascript": [
              "download(\"download_afe184fd-c113-4e32-b7a5-3278f613756f\", \"5.csv\", 743482)"
            ],
            "text/plain": [
              "<IPython.core.display.Javascript object>"
            ]
          },
          "metadata": {}
        }
      ],
      "source": [
        "#Word2Vec\n",
        "path = \"/content/drive/MyDrive/PTV Sir Project/W2V_with_levels.csv\"\n",
        "dataset = pd.read_csv(path)\n",
        "X, y = PreProcessing(dataset)\n",
        "autoencoder = MLPRegressor(alpha = 1e-15,hidden_layer_sizes=(1744,3488,1744,20,1744,3488,300)\n",
        "                          , random_state=1,max_iter=20000)\n",
        "autoencoder.fit(X,X)\n",
        "L= autoencoder.coefs_\n",
        "biases = autoencoder.intercepts_\n",
        "df1 = pd.DataFrame(L[3])\n",
        "df1.to_csv('5.csv') \n",
        "files.download('5.csv')"
      ]
    }
  ],
  "metadata": {
    "accelerator": "TPU",
    "colab": {
      "name": "Autoencoders_Algebra.ipynb",
      "provenance": []
    },
    "kernelspec": {
      "display_name": "Python 3",
      "name": "python3"
    },
    "language_info": {
      "name": "python"
    }
  },
  "nbformat": 4,
  "nbformat_minor": 0
}