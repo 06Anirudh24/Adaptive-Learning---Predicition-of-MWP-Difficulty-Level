{
  "nbformat": 4,
  "nbformat_minor": 0,
  "metadata": {
    "colab": {
      "name": "Glove_Algebra.ipynb",
      "provenance": []
    },
    "kernelspec": {
      "name": "python3",
      "display_name": "Python 3"
    },
    "language_info": {
      "name": "python"
    }
  },
  "cells": [
    {
      "cell_type": "code",
      "source": [
        "from google.colab import drive\n",
        "drive.mount('/content/drive')"
      ],
      "metadata": {
        "colab": {
          "base_uri": "https://localhost:8080/"
        },
        "id": "-5QnN986CW-T",
        "outputId": "8b310a06-f773-4469-f686-0142b9800e3d"
      },
      "execution_count": 6,
      "outputs": [
        {
          "output_type": "stream",
          "name": "stdout",
          "text": [
            "Drive already mounted at /content/drive; to attempt to forcibly remount, call drive.mount(\"/content/drive\", force_remount=True).\n"
          ]
        }
      ]
    },
    {
      "cell_type": "code",
      "execution_count": 4,
      "metadata": {
        "colab": {
          "base_uri": "https://localhost:8080/"
        },
        "id": "elqKu7T6CLlZ",
        "outputId": "f47bd47f-201c-4c49-ac1c-d3e32fc7ce07"
      },
      "outputs": [
        {
          "output_type": "stream",
          "name": "stdout",
          "text": [
            "[nltk_data] Downloading package stopwords to /root/nltk_data...\n",
            "[nltk_data]   Package stopwords is already up-to-date!\n"
          ]
        }
      ],
      "source": [
        "import logging\n",
        "import pandas as pd\n",
        "import numpy as np\n",
        "import gensim\n",
        "import nltk\n",
        "nltk.download('stopwords')\n",
        "nltk.download('punkt')\n",
        "import re\n",
        "from bs4 import BeautifulSoup\n",
        "import csv"
      ]
    },
    {
      "cell_type": "code",
      "source": [
        "\n",
        "REPLACE_BY_SPACE_RE = re.compile('[/(){}\\[\\]\\|@,;]')\n",
        "BAD_SYMBOLS_RE = re.compile('[^0-9a-z #+_]')\n",
        "STOPWORDS =nltk.corpus.stopwords.words('english')\n",
        "\n",
        "def clean_text(text):\n",
        "    text = BeautifulSoup(text, \"lxml\").text # HTML decoding\n",
        "    text = text.lower() # lowercase text\n",
        "    text = REPLACE_BY_SPACE_RE.sub(' ', text) # replace REPLACE_BY_SPACE_RE symbols by space in text\n",
        "    text = BAD_SYMBOLS_RE.sub('', text) # delete symbols which are in BAD_SYMBOLS_RE from text\n",
        "    text = ' '.join(word for word in text.split() if word not in STOPWORDS) # delete stopwors from text\n",
        "    return text\n"
      ],
      "metadata": {
        "id": "4h9SA3tuCTmD"
      },
      "execution_count": 5,
      "outputs": []
    },
    {
      "cell_type": "code",
      "source": [
        "path = \"/content/drive/MyDrive/glove.6B.300d.txt\"\n",
        "wv = pd.read_table(path, sep=\" \", index_col=0, header=None, quoting=csv.QUOTE_NONE)"
      ],
      "metadata": {
        "id": "f1e9jTtFE0JI"
      },
      "execution_count": 7,
      "outputs": []
    },
    {
      "cell_type": "code",
      "source": [
        "def vec(w):\n",
        "  return wv.loc[w].as_matrix()"
      ],
      "metadata": {
        "id": "ortVXdB1FLFu"
      },
      "execution_count": 9,
      "outputs": []
    },
    {
      "cell_type": "code",
      "source": [
        "def w2v_tokenize_text(text):\n",
        "  tokens = []\n",
        "  for sent in nltk.sent_tokenize(text, language='english'):\n",
        "    for word in nltk.word_tokenize(sent, language='english'):\n",
        "      if len(word) < 2:\n",
        "        continue\n",
        "      tokens.append(word)\n",
        "  return tokens"
      ],
      "metadata": {
        "id": "SVSi14kwEjeZ"
      },
      "execution_count": 10,
      "outputs": []
    },
    {
      "cell_type": "code",
      "source": [
        "def wordprint(words,wv):\n",
        "    all_words, mean = set(), []\n",
        "    for word in words:\n",
        "        if isinstance(word, np.ndarray):\n",
        "            mean.append(word)\n",
        "        elif word in wv.index:\n",
        "           a=np.array(wv.loc[word])\n",
        "           mean.append(a)\n",
        "    if not mean:\n",
        "        logging.warning(\"cannot compute similarity with no input %s\", words)\n",
        "        # FIXME: remove these examples in pre-processing\n",
        "        return np.zeros(300,)   \n",
        "    mean = gensim.matutils.unitvec(np.array(mean).mean(axis=0)).astype(np.float32)\n",
        "    return mean"
      ],
      "metadata": {
        "id": "vgvb9VNEFYuL"
      },
      "execution_count": 11,
      "outputs": []
    },
    {
      "cell_type": "code",
      "source": [
        "def  word_averaging_listn(wv, text_list):\n",
        "  return np.vstack([wordprint(post,wv) for post in text_list ])"
      ],
      "metadata": {
        "id": "Fa6ZnrFHFxzb"
      },
      "execution_count": 12,
      "outputs": []
    },
    {
      "cell_type": "code",
      "source": [
        "path = \"/content/drive/MyDrive/MWP(Words and Values in List).csv\"\n",
        "df = pd.read_csv(path)\n",
        "df.head()"
      ],
      "metadata": {
        "colab": {
          "base_uri": "https://localhost:8080/",
          "height": 354
        },
        "id": "1P91VWE4FzAy",
        "outputId": "9285ad51-193c-4e0a-d7c8-26d7bd3bc989"
      },
      "execution_count": 23,
      "outputs": [
        {
          "output_type": "execute_result",
          "data": {
            "text/html": [
              "\n",
              "  <div id=\"df-c8fe83b1-b67f-4cbf-b2f0-cbe3e4b865b6\">\n",
              "    <div class=\"colab-df-container\">\n",
              "      <div>\n",
              "<style scoped>\n",
              "    .dataframe tbody tr th:only-of-type {\n",
              "        vertical-align: middle;\n",
              "    }\n",
              "\n",
              "    .dataframe tbody tr th {\n",
              "        vertical-align: top;\n",
              "    }\n",
              "\n",
              "    .dataframe thead th {\n",
              "        text-align: right;\n",
              "    }\n",
              "</style>\n",
              "<table border=\"1\" class=\"dataframe\">\n",
              "  <thead>\n",
              "    <tr style=\"text-align: right;\">\n",
              "      <th></th>\n",
              "      <th>Unnamed: 0</th>\n",
              "      <th>Problem</th>\n",
              "      <th>Level</th>\n",
              "      <th>Type</th>\n",
              "      <th>Solution</th>\n",
              "      <th>Extracted words(List)</th>\n",
              "      <th>Extracted Num(List)</th>\n",
              "    </tr>\n",
              "  </thead>\n",
              "  <tbody>\n",
              "    <tr>\n",
              "      <th>0</th>\n",
              "      <td>0</td>\n",
              "      <td>There are constants    alpha  and    beta  suc...</td>\n",
              "      <td>Level 5</td>\n",
              "      <td>Algebra</td>\n",
              "      <td>The numerator  x^2 - 80x + 1551  factors as  (...</td>\n",
              "      <td>['There', 'are', 'constants', 'alpha', 'and', ...</td>\n",
              "      <td>['2', '80', '1551', '2', '57', '2970']</td>\n",
              "    </tr>\n",
              "    <tr>\n",
              "      <th>1</th>\n",
              "      <td>1</td>\n",
              "      <td>The length of the segment between the points  ...</td>\n",
              "      <td>Level 5</td>\n",
              "      <td>Algebra</td>\n",
              "      <td>By the distance formula, the distance from  (2...</td>\n",
              "      <td>['The', 'length', 'of', 'the', 'segment', 'bet...</td>\n",
              "      <td>['2', '4', '4', '1', '2', '10']</td>\n",
              "    </tr>\n",
              "    <tr>\n",
              "      <th>2</th>\n",
              "      <td>2</td>\n",
              "      <td>Chewbacca has 20 pieces of cherry gum and 30 p...</td>\n",
              "      <td>Level 5</td>\n",
              "      <td>Algebra</td>\n",
              "      <td>If Chewbacca loses one pack of cherry gum, the...</td>\n",
              "      <td>['Chewbacca', 'has', 'pieces', 'of', 'cherry',...</td>\n",
              "      <td>['20', '30', '5']</td>\n",
              "    </tr>\n",
              "    <tr>\n",
              "      <th>3</th>\n",
              "      <td>3</td>\n",
              "      <td>For some constants  a  and  b,  let   [f(x) = ...</td>\n",
              "      <td>Level 5</td>\n",
              "      <td>Algebra</td>\n",
              "      <td>Setting  x = 3,  we get  f(3) = -1.  Since  -1...</td>\n",
              "      <td>['For', 'some', 'constants', 'a', 'and', 'b', ...</td>\n",
              "      <td>['2', '8', '3', '2']</td>\n",
              "    </tr>\n",
              "    <tr>\n",
              "      <th>4</th>\n",
              "      <td>4</td>\n",
              "      <td>Calculate the sum  1 + 3 + 5 +   cdots + 15 + ...</td>\n",
              "      <td>Level 2</td>\n",
              "      <td>Algebra</td>\n",
              "      <td>The arithmetic sequence 1, 3, 5,    dots , 17,...</td>\n",
              "      <td>['Calculate', 'the', 'sum', 'cdots']</td>\n",
              "      <td>['1', '3', '5', '15', '17']</td>\n",
              "    </tr>\n",
              "  </tbody>\n",
              "</table>\n",
              "</div>\n",
              "      <button class=\"colab-df-convert\" onclick=\"convertToInteractive('df-c8fe83b1-b67f-4cbf-b2f0-cbe3e4b865b6')\"\n",
              "              title=\"Convert this dataframe to an interactive table.\"\n",
              "              style=\"display:none;\">\n",
              "        \n",
              "  <svg xmlns=\"http://www.w3.org/2000/svg\" height=\"24px\"viewBox=\"0 0 24 24\"\n",
              "       width=\"24px\">\n",
              "    <path d=\"M0 0h24v24H0V0z\" fill=\"none\"/>\n",
              "    <path d=\"M18.56 5.44l.94 2.06.94-2.06 2.06-.94-2.06-.94-.94-2.06-.94 2.06-2.06.94zm-11 1L8.5 8.5l.94-2.06 2.06-.94-2.06-.94L8.5 2.5l-.94 2.06-2.06.94zm10 10l.94 2.06.94-2.06 2.06-.94-2.06-.94-.94-2.06-.94 2.06-2.06.94z\"/><path d=\"M17.41 7.96l-1.37-1.37c-.4-.4-.92-.59-1.43-.59-.52 0-1.04.2-1.43.59L10.3 9.45l-7.72 7.72c-.78.78-.78 2.05 0 2.83L4 21.41c.39.39.9.59 1.41.59.51 0 1.02-.2 1.41-.59l7.78-7.78 2.81-2.81c.8-.78.8-2.07 0-2.86zM5.41 20L4 18.59l7.72-7.72 1.47 1.35L5.41 20z\"/>\n",
              "  </svg>\n",
              "      </button>\n",
              "      \n",
              "  <style>\n",
              "    .colab-df-container {\n",
              "      display:flex;\n",
              "      flex-wrap:wrap;\n",
              "      gap: 12px;\n",
              "    }\n",
              "\n",
              "    .colab-df-convert {\n",
              "      background-color: #E8F0FE;\n",
              "      border: none;\n",
              "      border-radius: 50%;\n",
              "      cursor: pointer;\n",
              "      display: none;\n",
              "      fill: #1967D2;\n",
              "      height: 32px;\n",
              "      padding: 0 0 0 0;\n",
              "      width: 32px;\n",
              "    }\n",
              "\n",
              "    .colab-df-convert:hover {\n",
              "      background-color: #E2EBFA;\n",
              "      box-shadow: 0px 1px 2px rgba(60, 64, 67, 0.3), 0px 1px 3px 1px rgba(60, 64, 67, 0.15);\n",
              "      fill: #174EA6;\n",
              "    }\n",
              "\n",
              "    [theme=dark] .colab-df-convert {\n",
              "      background-color: #3B4455;\n",
              "      fill: #D2E3FC;\n",
              "    }\n",
              "\n",
              "    [theme=dark] .colab-df-convert:hover {\n",
              "      background-color: #434B5C;\n",
              "      box-shadow: 0px 1px 3px 1px rgba(0, 0, 0, 0.15);\n",
              "      filter: drop-shadow(0px 1px 2px rgba(0, 0, 0, 0.3));\n",
              "      fill: #FFFFFF;\n",
              "    }\n",
              "  </style>\n",
              "\n",
              "      <script>\n",
              "        const buttonEl =\n",
              "          document.querySelector('#df-c8fe83b1-b67f-4cbf-b2f0-cbe3e4b865b6 button.colab-df-convert');\n",
              "        buttonEl.style.display =\n",
              "          google.colab.kernel.accessAllowed ? 'block' : 'none';\n",
              "\n",
              "        async function convertToInteractive(key) {\n",
              "          const element = document.querySelector('#df-c8fe83b1-b67f-4cbf-b2f0-cbe3e4b865b6');\n",
              "          const dataTable =\n",
              "            await google.colab.kernel.invokeFunction('convertToInteractive',\n",
              "                                                     [key], {});\n",
              "          if (!dataTable) return;\n",
              "\n",
              "          const docLinkHtml = 'Like what you see? Visit the ' +\n",
              "            '<a target=\"_blank\" href=https://colab.research.google.com/notebooks/data_table.ipynb>data table notebook</a>'\n",
              "            + ' to learn more about interactive tables.';\n",
              "          element.innerHTML = '';\n",
              "          dataTable['output_type'] = 'display_data';\n",
              "          await google.colab.output.renderOutput(dataTable, element);\n",
              "          const docLink = document.createElement('div');\n",
              "          docLink.innerHTML = docLinkHtml;\n",
              "          element.appendChild(docLink);\n",
              "        }\n",
              "      </script>\n",
              "    </div>\n",
              "  </div>\n",
              "  "
            ],
            "text/plain": [
              "   Unnamed: 0  ...                     Extracted Num(List)\n",
              "0           0  ...  ['2', '80', '1551', '2', '57', '2970']\n",
              "1           1  ...         ['2', '4', '4', '1', '2', '10']\n",
              "2           2  ...                       ['20', '30', '5']\n",
              "3           3  ...                    ['2', '8', '3', '2']\n",
              "4           4  ...             ['1', '3', '5', '15', '17']\n",
              "\n",
              "[5 rows x 7 columns]"
            ]
          },
          "metadata": {},
          "execution_count": 23
        }
      ]
    },
    {
      "cell_type": "code",
      "source": [
        "df.iloc[:,1] = df.iloc[:,1].apply(clean_text)\n",
        "print(df.iloc[:100,1])"
      ],
      "metadata": {
        "colab": {
          "base_uri": "https://localhost:8080/"
        },
        "id": "V2YD4Li3GJgA",
        "outputId": "17c2e6e2-81d9-4d80-8e87-61d5db865d0b"
      },
      "execution_count": 24,
      "outputs": [
        {
          "output_type": "stream",
          "name": "stdout",
          "text": [
            "0     constants alpha beta frac x alpha x+ beta frac...\n",
            "1     length segment points 2a a4 4 1 2 sqrt 10 unit...\n",
            "2     chewbacca 20 pieces cherry gum 30 pieces grape...\n",
            "3     constants b let f x left begin array cl ax + b...\n",
            "4             calculate sum 1 + 3 + 5 + cdots + 15 + 17\n",
            "                            ...                        \n",
            "95    largest value x satisfies equation sqrt 2x 4x ...\n",
            "96    sum left dfrac 1 3 right + left dfrac 1 3 righ...\n",
            "97    map 12centimeter length represents 72 kilomete...\n",
            "98                      find sum values x 2 x23x2 4 x 4\n",
            "99              given 0 f g 8 f x x2 + 8 g x x2 4 value\n",
            "Name: Problem , Length: 100, dtype: object\n"
          ]
        }
      ]
    },
    {
      "cell_type": "code",
      "source": [
        "comtdata=df"
      ],
      "metadata": {
        "id": "nhCIcmL1GPSk"
      },
      "execution_count": 25,
      "outputs": []
    },
    {
      "cell_type": "code",
      "source": [
        "test_tokenized = comtdata.apply(lambda r: w2v_tokenize_text(r.iloc[1]), axis=1).values"
      ],
      "metadata": {
        "id": "IwWCtsD6Gymq"
      },
      "execution_count": 31,
      "outputs": []
    },
    {
      "cell_type": "code",
      "source": [
        "X_comtdata_averagen=word_averaging_listn(wv, test_tokenized)"
      ],
      "metadata": {
        "colab": {
          "base_uri": "https://localhost:8080/"
        },
        "id": "NtpUOsFNQ3EZ",
        "outputId": "bda9d3f7-25a9-4e53-f945-88d80d13527c"
      },
      "execution_count": 32,
      "outputs": [
        {
          "output_type": "stream",
          "name": "stderr",
          "text": [
            "WARNING:root:cannot compute similarity with no input ['sqrt', '2+', 'sqrt']\n",
            "WARNING:root:cannot compute similarity with no input ['468n']\n",
            "WARNING:root:cannot compute similarity with no input ['2789q']\n",
            "WARNING:root:cannot compute similarity with no input ['dfrac']\n",
            "WARNING:root:cannot compute similarity with no input ['2a+3b', 'a2i', 'b1+i']\n",
            "WARNING:root:cannot compute similarity with no input ['lceil', 'rceil', 'lfloor', 'rfloor', 'lceil', 'rceil']\n"
          ]
        }
      ]
    },
    {
      "cell_type": "code",
      "source": [
        "len(X_comtdata_averagen)"
      ],
      "metadata": {
        "colab": {
          "base_uri": "https://localhost:8080/"
        },
        "id": "qLnZaQsxRFi7",
        "outputId": "2a9148f0-88a2-42cf-e248-e65a3138afae"
      },
      "execution_count": 33,
      "outputs": [
        {
          "output_type": "execute_result",
          "data": {
            "text/plain": [
              "1744"
            ]
          },
          "metadata": {},
          "execution_count": 33
        }
      ]
    },
    {
      "cell_type": "code",
      "source": [
        "type(X_comtdata_averagen)"
      ],
      "metadata": {
        "colab": {
          "base_uri": "https://localhost:8080/"
        },
        "id": "zCNYPMW0Tzd5",
        "outputId": "a38f3924-7ce9-4e1e-a0ed-3b48504f466e"
      },
      "execution_count": 34,
      "outputs": [
        {
          "output_type": "execute_result",
          "data": {
            "text/plain": [
              "numpy.ndarray"
            ]
          },
          "metadata": {},
          "execution_count": 34
        }
      ]
    },
    {
      "cell_type": "code",
      "source": [
        "X_comtdata_averagen = pd.DataFrame(X_comtdata_averagen)"
      ],
      "metadata": {
        "id": "iF-CoSt7UEW_"
      },
      "execution_count": 35,
      "outputs": []
    },
    {
      "cell_type": "code",
      "source": [
        "from google.colab import files\n",
        "X_comtdata_averagen.to_csv('Glove_algebra.csv') \n",
        "files.download('Glove_algebra.csv')"
      ],
      "metadata": {
        "colab": {
          "base_uri": "https://localhost:8080/",
          "height": 17
        },
        "id": "bYjQVJPXUQP-",
        "outputId": "48617474-daf9-4e79-f2b1-85f567dfff30"
      },
      "execution_count": 36,
      "outputs": [
        {
          "output_type": "display_data",
          "data": {
            "application/javascript": [
              "\n",
              "    async function download(id, filename, size) {\n",
              "      if (!google.colab.kernel.accessAllowed) {\n",
              "        return;\n",
              "      }\n",
              "      const div = document.createElement('div');\n",
              "      const label = document.createElement('label');\n",
              "      label.textContent = `Downloading \"${filename}\": `;\n",
              "      div.appendChild(label);\n",
              "      const progress = document.createElement('progress');\n",
              "      progress.max = size;\n",
              "      div.appendChild(progress);\n",
              "      document.body.appendChild(div);\n",
              "\n",
              "      const buffers = [];\n",
              "      let downloaded = 0;\n",
              "\n",
              "      const channel = await google.colab.kernel.comms.open(id);\n",
              "      // Send a message to notify the kernel that we're ready.\n",
              "      channel.send({})\n",
              "\n",
              "      for await (const message of channel.messages) {\n",
              "        // Send a message to notify the kernel that we're ready.\n",
              "        channel.send({})\n",
              "        if (message.buffers) {\n",
              "          for (const buffer of message.buffers) {\n",
              "            buffers.push(buffer);\n",
              "            downloaded += buffer.byteLength;\n",
              "            progress.value = downloaded;\n",
              "          }\n",
              "        }\n",
              "      }\n",
              "      const blob = new Blob(buffers, {type: 'application/binary'});\n",
              "      const a = document.createElement('a');\n",
              "      a.href = window.URL.createObjectURL(blob);\n",
              "      a.download = filename;\n",
              "      div.appendChild(a);\n",
              "      a.click();\n",
              "      div.remove();\n",
              "    }\n",
              "  "
            ],
            "text/plain": [
              "<IPython.core.display.Javascript object>"
            ]
          },
          "metadata": {}
        },
        {
          "output_type": "display_data",
          "data": {
            "application/javascript": [
              "download(\"download_9a972fbd-841a-4d73-9ee3-d511be43663f\", \"Glove_algebra.csv\", 10931692)"
            ],
            "text/plain": [
              "<IPython.core.display.Javascript object>"
            ]
          },
          "metadata": {}
        }
      ]
    },
    {
      "cell_type": "code",
      "source": [
        ""
      ],
      "metadata": {
        "id": "_2fQ4ZL-Uaqr"
      },
      "execution_count": null,
      "outputs": []
    }
  ]
}