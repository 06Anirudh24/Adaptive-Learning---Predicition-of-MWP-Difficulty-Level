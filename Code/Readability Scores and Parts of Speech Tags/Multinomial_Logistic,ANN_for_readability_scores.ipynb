{
  "nbformat": 4,
  "nbformat_minor": 0,
  "metadata": {
    "colab": {
      "name": "Multinomial_Logistic,ANN for readability scores.ipynb",
      "provenance": [],
      "collapsed_sections": []
    },
    "kernelspec": {
      "name": "python3",
      "display_name": "Python 3"
    },
    "language_info": {
      "name": "python"
    }
  },
  "cells": [
    {
      "cell_type": "markdown",
      "source": [
        "#Reference: https://www.datasklr.com/logistic-regression/multinomial-logistic-regression"
      ],
      "metadata": {
        "id": "8FaLjiLD6Pvw"
      }
    },
    {
      "cell_type": "code",
      "execution_count": 1,
      "metadata": {
        "colab": {
          "base_uri": "https://localhost:8080/"
        },
        "id": "Z-8E-aPisR44",
        "outputId": "086f2935-72c0-4686-eaf9-ced728b7b840"
      },
      "outputs": [
        {
          "output_type": "stream",
          "name": "stdout",
          "text": [
            "Mounted at /content/drive\n"
          ]
        }
      ],
      "source": [
        "from google.colab import drive\n",
        "drive.mount('/content/drive')"
      ]
    },
    {
      "cell_type": "code",
      "source": [
        "from numpy import nan\n",
        "import tensorflow as tf\n",
        "from sklearn.model_selection import train_test_split\n",
        "from sklearn.preprocessing import StandardScaler\n",
        "from keras.models import Sequential\n",
        "from tensorflow.keras.layers import Dense"
      ],
      "metadata": {
        "id": "eLTugaSCrwJy"
      },
      "execution_count": 52,
      "outputs": []
    },
    {
      "cell_type": "code",
      "source": [
        "import pandas as pd\n",
        "import numpy as np\n",
        "import scipy as scp\n",
        "import sklearn\n",
        "\n",
        "from sklearn.model_selection import train_test_split\n",
        "from sklearn.linear_model import LogisticRegression\n",
        "from sklearn.metrics import classification_report\n",
        "from sklearn import metrics \n",
        "from sklearn.metrics import confusion_matrix\n",
        "\n",
        "import statsmodels.api as sm\n",
        "import matplotlib.pyplot as plt"
      ],
      "metadata": {
        "colab": {
          "base_uri": "https://localhost:8080/"
        },
        "id": "Q6sFbsG6uENJ",
        "outputId": "466a32c6-4ae0-4e49-db09-7fb3887e1892"
      },
      "execution_count": 2,
      "outputs": [
        {
          "output_type": "stream",
          "name": "stderr",
          "text": [
            "/usr/local/lib/python3.7/dist-packages/statsmodels/tools/_testing.py:19: FutureWarning: pandas.util.testing is deprecated. Use the functions in the public API at pandas.testing instead.\n",
            "  import pandas.util.testing as tm\n"
          ]
        }
      ]
    },
    {
      "cell_type": "code",
      "source": [
        "import gensim\n",
        "import nltk\n",
        "nltk.download('stopwords')\n",
        "nltk.download('punkt')\n",
        "import re\n",
        "from bs4 import BeautifulSoup\n",
        "import csv\n",
        "from nltk.tokenize import sent_tokenize\n",
        "import nltk\n",
        "!pip install nltk\n",
        "from nltk.corpus import stopwords\n",
        "from nltk.tokenize import word_tokenize, sent_tokenize\n",
        "stop_words = set(stopwords.words('english'))\n",
        "nltk.download('averaged_perceptron_tagger')"
      ],
      "metadata": {
        "colab": {
          "base_uri": "https://localhost:8080/"
        },
        "id": "gV41iuIGuiXu",
        "outputId": "8530f015-c2dc-4118-ace8-abc22f389bbc"
      },
      "execution_count": 3,
      "outputs": [
        {
          "output_type": "stream",
          "name": "stdout",
          "text": [
            "[nltk_data] Downloading package stopwords to /root/nltk_data...\n",
            "[nltk_data]   Unzipping corpora/stopwords.zip.\n",
            "[nltk_data] Downloading package punkt to /root/nltk_data...\n",
            "[nltk_data]   Unzipping tokenizers/punkt.zip.\n",
            "Requirement already satisfied: nltk in /usr/local/lib/python3.7/dist-packages (3.2.5)\n",
            "Requirement already satisfied: six in /usr/local/lib/python3.7/dist-packages (from nltk) (1.15.0)\n",
            "[nltk_data] Downloading package averaged_perceptron_tagger to\n",
            "[nltk_data]     /root/nltk_data...\n",
            "[nltk_data]   Unzipping taggers/averaged_perceptron_tagger.zip.\n"
          ]
        },
        {
          "output_type": "execute_result",
          "data": {
            "text/plain": [
              "True"
            ]
          },
          "metadata": {},
          "execution_count": 3
        }
      ]
    },
    {
      "cell_type": "code",
      "source": [
        "path = \"/content/drive/MyDrive/MWP(Words and Values in List).csv\"\n",
        "df = pd.read_csv(path)\n",
        "df.head()"
      ],
      "metadata": {
        "colab": {
          "base_uri": "https://localhost:8080/",
          "height": 354
        },
        "id": "0ktBQAzRt-m3",
        "outputId": "b229d380-0b5d-418e-e2d1-b605769bf0a1"
      },
      "execution_count": 4,
      "outputs": [
        {
          "output_type": "execute_result",
          "data": {
            "text/plain": [
              "   Unnamed: 0                                           Problem    Level   \\\n",
              "0           0  There are constants    alpha  and    beta  suc...  Level 5   \n",
              "1           1  The length of the segment between the points  ...  Level 5   \n",
              "2           2  Chewbacca has 20 pieces of cherry gum and 30 p...  Level 5   \n",
              "3           3  For some constants  a  and  b,  let   [f(x) = ...  Level 5   \n",
              "4           4  Calculate the sum  1 + 3 + 5 +   cdots + 15 + ...  Level 2   \n",
              "\n",
              "      Type                                           Solution  \\\n",
              "0  Algebra  The numerator  x^2 - 80x + 1551  factors as  (...   \n",
              "1  Algebra  By the distance formula, the distance from  (2...   \n",
              "2  Algebra  If Chewbacca loses one pack of cherry gum, the...   \n",
              "3  Algebra  Setting  x = 3,  we get  f(3) = -1.  Since  -1...   \n",
              "4  Algebra  The arithmetic sequence 1, 3, 5,    dots , 17,...   \n",
              "\n",
              "                               Extracted words(List)  \\\n",
              "0  ['There', 'are', 'constants', 'alpha', 'and', ...   \n",
              "1  ['The', 'length', 'of', 'the', 'segment', 'bet...   \n",
              "2  ['Chewbacca', 'has', 'pieces', 'of', 'cherry',...   \n",
              "3  ['For', 'some', 'constants', 'a', 'and', 'b', ...   \n",
              "4               ['Calculate', 'the', 'sum', 'cdots']   \n",
              "\n",
              "                      Extracted Num(List)  \n",
              "0  ['2', '80', '1551', '2', '57', '2970']  \n",
              "1         ['2', '4', '4', '1', '2', '10']  \n",
              "2                       ['20', '30', '5']  \n",
              "3                    ['2', '8', '3', '2']  \n",
              "4             ['1', '3', '5', '15', '17']  "
            ],
            "text/html": [
              "\n",
              "  <div id=\"df-884f4944-2461-4a95-950c-0913edb4fe2f\">\n",
              "    <div class=\"colab-df-container\">\n",
              "      <div>\n",
              "<style scoped>\n",
              "    .dataframe tbody tr th:only-of-type {\n",
              "        vertical-align: middle;\n",
              "    }\n",
              "\n",
              "    .dataframe tbody tr th {\n",
              "        vertical-align: top;\n",
              "    }\n",
              "\n",
              "    .dataframe thead th {\n",
              "        text-align: right;\n",
              "    }\n",
              "</style>\n",
              "<table border=\"1\" class=\"dataframe\">\n",
              "  <thead>\n",
              "    <tr style=\"text-align: right;\">\n",
              "      <th></th>\n",
              "      <th>Unnamed: 0</th>\n",
              "      <th>Problem</th>\n",
              "      <th>Level</th>\n",
              "      <th>Type</th>\n",
              "      <th>Solution</th>\n",
              "      <th>Extracted words(List)</th>\n",
              "      <th>Extracted Num(List)</th>\n",
              "    </tr>\n",
              "  </thead>\n",
              "  <tbody>\n",
              "    <tr>\n",
              "      <th>0</th>\n",
              "      <td>0</td>\n",
              "      <td>There are constants    alpha  and    beta  suc...</td>\n",
              "      <td>Level 5</td>\n",
              "      <td>Algebra</td>\n",
              "      <td>The numerator  x^2 - 80x + 1551  factors as  (...</td>\n",
              "      <td>['There', 'are', 'constants', 'alpha', 'and', ...</td>\n",
              "      <td>['2', '80', '1551', '2', '57', '2970']</td>\n",
              "    </tr>\n",
              "    <tr>\n",
              "      <th>1</th>\n",
              "      <td>1</td>\n",
              "      <td>The length of the segment between the points  ...</td>\n",
              "      <td>Level 5</td>\n",
              "      <td>Algebra</td>\n",
              "      <td>By the distance formula, the distance from  (2...</td>\n",
              "      <td>['The', 'length', 'of', 'the', 'segment', 'bet...</td>\n",
              "      <td>['2', '4', '4', '1', '2', '10']</td>\n",
              "    </tr>\n",
              "    <tr>\n",
              "      <th>2</th>\n",
              "      <td>2</td>\n",
              "      <td>Chewbacca has 20 pieces of cherry gum and 30 p...</td>\n",
              "      <td>Level 5</td>\n",
              "      <td>Algebra</td>\n",
              "      <td>If Chewbacca loses one pack of cherry gum, the...</td>\n",
              "      <td>['Chewbacca', 'has', 'pieces', 'of', 'cherry',...</td>\n",
              "      <td>['20', '30', '5']</td>\n",
              "    </tr>\n",
              "    <tr>\n",
              "      <th>3</th>\n",
              "      <td>3</td>\n",
              "      <td>For some constants  a  and  b,  let   [f(x) = ...</td>\n",
              "      <td>Level 5</td>\n",
              "      <td>Algebra</td>\n",
              "      <td>Setting  x = 3,  we get  f(3) = -1.  Since  -1...</td>\n",
              "      <td>['For', 'some', 'constants', 'a', 'and', 'b', ...</td>\n",
              "      <td>['2', '8', '3', '2']</td>\n",
              "    </tr>\n",
              "    <tr>\n",
              "      <th>4</th>\n",
              "      <td>4</td>\n",
              "      <td>Calculate the sum  1 + 3 + 5 +   cdots + 15 + ...</td>\n",
              "      <td>Level 2</td>\n",
              "      <td>Algebra</td>\n",
              "      <td>The arithmetic sequence 1, 3, 5,    dots , 17,...</td>\n",
              "      <td>['Calculate', 'the', 'sum', 'cdots']</td>\n",
              "      <td>['1', '3', '5', '15', '17']</td>\n",
              "    </tr>\n",
              "  </tbody>\n",
              "</table>\n",
              "</div>\n",
              "      <button class=\"colab-df-convert\" onclick=\"convertToInteractive('df-884f4944-2461-4a95-950c-0913edb4fe2f')\"\n",
              "              title=\"Convert this dataframe to an interactive table.\"\n",
              "              style=\"display:none;\">\n",
              "        \n",
              "  <svg xmlns=\"http://www.w3.org/2000/svg\" height=\"24px\"viewBox=\"0 0 24 24\"\n",
              "       width=\"24px\">\n",
              "    <path d=\"M0 0h24v24H0V0z\" fill=\"none\"/>\n",
              "    <path d=\"M18.56 5.44l.94 2.06.94-2.06 2.06-.94-2.06-.94-.94-2.06-.94 2.06-2.06.94zm-11 1L8.5 8.5l.94-2.06 2.06-.94-2.06-.94L8.5 2.5l-.94 2.06-2.06.94zm10 10l.94 2.06.94-2.06 2.06-.94-2.06-.94-.94-2.06-.94 2.06-2.06.94z\"/><path d=\"M17.41 7.96l-1.37-1.37c-.4-.4-.92-.59-1.43-.59-.52 0-1.04.2-1.43.59L10.3 9.45l-7.72 7.72c-.78.78-.78 2.05 0 2.83L4 21.41c.39.39.9.59 1.41.59.51 0 1.02-.2 1.41-.59l7.78-7.78 2.81-2.81c.8-.78.8-2.07 0-2.86zM5.41 20L4 18.59l7.72-7.72 1.47 1.35L5.41 20z\"/>\n",
              "  </svg>\n",
              "      </button>\n",
              "      \n",
              "  <style>\n",
              "    .colab-df-container {\n",
              "      display:flex;\n",
              "      flex-wrap:wrap;\n",
              "      gap: 12px;\n",
              "    }\n",
              "\n",
              "    .colab-df-convert {\n",
              "      background-color: #E8F0FE;\n",
              "      border: none;\n",
              "      border-radius: 50%;\n",
              "      cursor: pointer;\n",
              "      display: none;\n",
              "      fill: #1967D2;\n",
              "      height: 32px;\n",
              "      padding: 0 0 0 0;\n",
              "      width: 32px;\n",
              "    }\n",
              "\n",
              "    .colab-df-convert:hover {\n",
              "      background-color: #E2EBFA;\n",
              "      box-shadow: 0px 1px 2px rgba(60, 64, 67, 0.3), 0px 1px 3px 1px rgba(60, 64, 67, 0.15);\n",
              "      fill: #174EA6;\n",
              "    }\n",
              "\n",
              "    [theme=dark] .colab-df-convert {\n",
              "      background-color: #3B4455;\n",
              "      fill: #D2E3FC;\n",
              "    }\n",
              "\n",
              "    [theme=dark] .colab-df-convert:hover {\n",
              "      background-color: #434B5C;\n",
              "      box-shadow: 0px 1px 3px 1px rgba(0, 0, 0, 0.15);\n",
              "      filter: drop-shadow(0px 1px 2px rgba(0, 0, 0, 0.3));\n",
              "      fill: #FFFFFF;\n",
              "    }\n",
              "  </style>\n",
              "\n",
              "      <script>\n",
              "        const buttonEl =\n",
              "          document.querySelector('#df-884f4944-2461-4a95-950c-0913edb4fe2f button.colab-df-convert');\n",
              "        buttonEl.style.display =\n",
              "          google.colab.kernel.accessAllowed ? 'block' : 'none';\n",
              "\n",
              "        async function convertToInteractive(key) {\n",
              "          const element = document.querySelector('#df-884f4944-2461-4a95-950c-0913edb4fe2f');\n",
              "          const dataTable =\n",
              "            await google.colab.kernel.invokeFunction('convertToInteractive',\n",
              "                                                     [key], {});\n",
              "          if (!dataTable) return;\n",
              "\n",
              "          const docLinkHtml = 'Like what you see? Visit the ' +\n",
              "            '<a target=\"_blank\" href=https://colab.research.google.com/notebooks/data_table.ipynb>data table notebook</a>'\n",
              "            + ' to learn more about interactive tables.';\n",
              "          element.innerHTML = '';\n",
              "          dataTable['output_type'] = 'display_data';\n",
              "          await google.colab.output.renderOutput(dataTable, element);\n",
              "          const docLink = document.createElement('div');\n",
              "          docLink.innerHTML = docLinkHtml;\n",
              "          element.appendChild(docLink);\n",
              "        }\n",
              "      </script>\n",
              "    </div>\n",
              "  </div>\n",
              "  "
            ]
          },
          "metadata": {},
          "execution_count": 4
        }
      ]
    },
    {
      "cell_type": "code",
      "source": [
        "df = df.iloc[:,1:3]\n",
        "df"
      ],
      "metadata": {
        "colab": {
          "base_uri": "https://localhost:8080/",
          "height": 423
        },
        "id": "X8NAJ0-UuA_s",
        "outputId": "bc365366-fd8f-4936-99ac-0061e91867a0"
      },
      "execution_count": 5,
      "outputs": [
        {
          "output_type": "execute_result",
          "data": {
            "text/plain": [
              "                                               Problem    Level \n",
              "0     There are constants    alpha  and    beta  suc...  Level 5\n",
              "1     The length of the segment between the points  ...  Level 5\n",
              "2     Chewbacca has 20 pieces of cherry gum and 30 p...  Level 5\n",
              "3     For some constants  a  and  b,  let   [f(x) = ...  Level 5\n",
              "4     Calculate the sum  1 + 3 + 5 +   cdots + 15 + ...  Level 2\n",
              "...                                                 ...      ...\n",
              "1739  What is the slope of the line passing through ...  Level 2\n",
              "1740  Evaluate  i^{11} + i^{16} + i^{21} + i^{26} + ...  Level 4\n",
              "1741  If  a  is a constant such that  4x^2 - 12x + a...  Level 3\n",
              "1742  Given  a   star b = a^2 + 2ab + b^2 , what is ...  Level 3\n",
              "1743  The graph of the function  f(x)  is shown belo...  Level 5\n",
              "\n",
              "[1744 rows x 2 columns]"
            ],
            "text/html": [
              "\n",
              "  <div id=\"df-46529850-a8df-4e2c-8858-6a75fcc91cb9\">\n",
              "    <div class=\"colab-df-container\">\n",
              "      <div>\n",
              "<style scoped>\n",
              "    .dataframe tbody tr th:only-of-type {\n",
              "        vertical-align: middle;\n",
              "    }\n",
              "\n",
              "    .dataframe tbody tr th {\n",
              "        vertical-align: top;\n",
              "    }\n",
              "\n",
              "    .dataframe thead th {\n",
              "        text-align: right;\n",
              "    }\n",
              "</style>\n",
              "<table border=\"1\" class=\"dataframe\">\n",
              "  <thead>\n",
              "    <tr style=\"text-align: right;\">\n",
              "      <th></th>\n",
              "      <th>Problem</th>\n",
              "      <th>Level</th>\n",
              "    </tr>\n",
              "  </thead>\n",
              "  <tbody>\n",
              "    <tr>\n",
              "      <th>0</th>\n",
              "      <td>There are constants    alpha  and    beta  suc...</td>\n",
              "      <td>Level 5</td>\n",
              "    </tr>\n",
              "    <tr>\n",
              "      <th>1</th>\n",
              "      <td>The length of the segment between the points  ...</td>\n",
              "      <td>Level 5</td>\n",
              "    </tr>\n",
              "    <tr>\n",
              "      <th>2</th>\n",
              "      <td>Chewbacca has 20 pieces of cherry gum and 30 p...</td>\n",
              "      <td>Level 5</td>\n",
              "    </tr>\n",
              "    <tr>\n",
              "      <th>3</th>\n",
              "      <td>For some constants  a  and  b,  let   [f(x) = ...</td>\n",
              "      <td>Level 5</td>\n",
              "    </tr>\n",
              "    <tr>\n",
              "      <th>4</th>\n",
              "      <td>Calculate the sum  1 + 3 + 5 +   cdots + 15 + ...</td>\n",
              "      <td>Level 2</td>\n",
              "    </tr>\n",
              "    <tr>\n",
              "      <th>...</th>\n",
              "      <td>...</td>\n",
              "      <td>...</td>\n",
              "    </tr>\n",
              "    <tr>\n",
              "      <th>1739</th>\n",
              "      <td>What is the slope of the line passing through ...</td>\n",
              "      <td>Level 2</td>\n",
              "    </tr>\n",
              "    <tr>\n",
              "      <th>1740</th>\n",
              "      <td>Evaluate  i^{11} + i^{16} + i^{21} + i^{26} + ...</td>\n",
              "      <td>Level 4</td>\n",
              "    </tr>\n",
              "    <tr>\n",
              "      <th>1741</th>\n",
              "      <td>If  a  is a constant such that  4x^2 - 12x + a...</td>\n",
              "      <td>Level 3</td>\n",
              "    </tr>\n",
              "    <tr>\n",
              "      <th>1742</th>\n",
              "      <td>Given  a   star b = a^2 + 2ab + b^2 , what is ...</td>\n",
              "      <td>Level 3</td>\n",
              "    </tr>\n",
              "    <tr>\n",
              "      <th>1743</th>\n",
              "      <td>The graph of the function  f(x)  is shown belo...</td>\n",
              "      <td>Level 5</td>\n",
              "    </tr>\n",
              "  </tbody>\n",
              "</table>\n",
              "<p>1744 rows × 2 columns</p>\n",
              "</div>\n",
              "      <button class=\"colab-df-convert\" onclick=\"convertToInteractive('df-46529850-a8df-4e2c-8858-6a75fcc91cb9')\"\n",
              "              title=\"Convert this dataframe to an interactive table.\"\n",
              "              style=\"display:none;\">\n",
              "        \n",
              "  <svg xmlns=\"http://www.w3.org/2000/svg\" height=\"24px\"viewBox=\"0 0 24 24\"\n",
              "       width=\"24px\">\n",
              "    <path d=\"M0 0h24v24H0V0z\" fill=\"none\"/>\n",
              "    <path d=\"M18.56 5.44l.94 2.06.94-2.06 2.06-.94-2.06-.94-.94-2.06-.94 2.06-2.06.94zm-11 1L8.5 8.5l.94-2.06 2.06-.94-2.06-.94L8.5 2.5l-.94 2.06-2.06.94zm10 10l.94 2.06.94-2.06 2.06-.94-2.06-.94-.94-2.06-.94 2.06-2.06.94z\"/><path d=\"M17.41 7.96l-1.37-1.37c-.4-.4-.92-.59-1.43-.59-.52 0-1.04.2-1.43.59L10.3 9.45l-7.72 7.72c-.78.78-.78 2.05 0 2.83L4 21.41c.39.39.9.59 1.41.59.51 0 1.02-.2 1.41-.59l7.78-7.78 2.81-2.81c.8-.78.8-2.07 0-2.86zM5.41 20L4 18.59l7.72-7.72 1.47 1.35L5.41 20z\"/>\n",
              "  </svg>\n",
              "      </button>\n",
              "      \n",
              "  <style>\n",
              "    .colab-df-container {\n",
              "      display:flex;\n",
              "      flex-wrap:wrap;\n",
              "      gap: 12px;\n",
              "    }\n",
              "\n",
              "    .colab-df-convert {\n",
              "      background-color: #E8F0FE;\n",
              "      border: none;\n",
              "      border-radius: 50%;\n",
              "      cursor: pointer;\n",
              "      display: none;\n",
              "      fill: #1967D2;\n",
              "      height: 32px;\n",
              "      padding: 0 0 0 0;\n",
              "      width: 32px;\n",
              "    }\n",
              "\n",
              "    .colab-df-convert:hover {\n",
              "      background-color: #E2EBFA;\n",
              "      box-shadow: 0px 1px 2px rgba(60, 64, 67, 0.3), 0px 1px 3px 1px rgba(60, 64, 67, 0.15);\n",
              "      fill: #174EA6;\n",
              "    }\n",
              "\n",
              "    [theme=dark] .colab-df-convert {\n",
              "      background-color: #3B4455;\n",
              "      fill: #D2E3FC;\n",
              "    }\n",
              "\n",
              "    [theme=dark] .colab-df-convert:hover {\n",
              "      background-color: #434B5C;\n",
              "      box-shadow: 0px 1px 3px 1px rgba(0, 0, 0, 0.15);\n",
              "      filter: drop-shadow(0px 1px 2px rgba(0, 0, 0, 0.3));\n",
              "      fill: #FFFFFF;\n",
              "    }\n",
              "  </style>\n",
              "\n",
              "      <script>\n",
              "        const buttonEl =\n",
              "          document.querySelector('#df-46529850-a8df-4e2c-8858-6a75fcc91cb9 button.colab-df-convert');\n",
              "        buttonEl.style.display =\n",
              "          google.colab.kernel.accessAllowed ? 'block' : 'none';\n",
              "\n",
              "        async function convertToInteractive(key) {\n",
              "          const element = document.querySelector('#df-46529850-a8df-4e2c-8858-6a75fcc91cb9');\n",
              "          const dataTable =\n",
              "            await google.colab.kernel.invokeFunction('convertToInteractive',\n",
              "                                                     [key], {});\n",
              "          if (!dataTable) return;\n",
              "\n",
              "          const docLinkHtml = 'Like what you see? Visit the ' +\n",
              "            '<a target=\"_blank\" href=https://colab.research.google.com/notebooks/data_table.ipynb>data table notebook</a>'\n",
              "            + ' to learn more about interactive tables.';\n",
              "          element.innerHTML = '';\n",
              "          dataTable['output_type'] = 'display_data';\n",
              "          await google.colab.output.renderOutput(dataTable, element);\n",
              "          const docLink = document.createElement('div');\n",
              "          docLink.innerHTML = docLinkHtml;\n",
              "          element.appendChild(docLink);\n",
              "        }\n",
              "      </script>\n",
              "    </div>\n",
              "  </div>\n",
              "  "
            ]
          },
          "metadata": {},
          "execution_count": 5
        }
      ]
    },
    {
      "cell_type": "code",
      "source": [
        "df.iloc[:,1].replace(['Level 1', 'Level 2', 'Level 3', 'Level 4', 'Level 5'],\n",
        "                        [1, 2, 3, 4, 5], inplace=True)\n",
        "df.head()"
      ],
      "metadata": {
        "colab": {
          "base_uri": "https://localhost:8080/",
          "height": 206
        },
        "id": "xVRv0VlouIpl",
        "outputId": "ee800b60-c44f-4776-8419-b7777081f2f8"
      },
      "execution_count": 6,
      "outputs": [
        {
          "output_type": "execute_result",
          "data": {
            "text/plain": [
              "                                            Problem   Level \n",
              "0  There are constants    alpha  and    beta  suc...       5\n",
              "1  The length of the segment between the points  ...       5\n",
              "2  Chewbacca has 20 pieces of cherry gum and 30 p...       5\n",
              "3  For some constants  a  and  b,  let   [f(x) = ...       5\n",
              "4  Calculate the sum  1 + 3 + 5 +   cdots + 15 + ...       2"
            ],
            "text/html": [
              "\n",
              "  <div id=\"df-c425bce5-bb4b-45bb-a2f3-097ec831511d\">\n",
              "    <div class=\"colab-df-container\">\n",
              "      <div>\n",
              "<style scoped>\n",
              "    .dataframe tbody tr th:only-of-type {\n",
              "        vertical-align: middle;\n",
              "    }\n",
              "\n",
              "    .dataframe tbody tr th {\n",
              "        vertical-align: top;\n",
              "    }\n",
              "\n",
              "    .dataframe thead th {\n",
              "        text-align: right;\n",
              "    }\n",
              "</style>\n",
              "<table border=\"1\" class=\"dataframe\">\n",
              "  <thead>\n",
              "    <tr style=\"text-align: right;\">\n",
              "      <th></th>\n",
              "      <th>Problem</th>\n",
              "      <th>Level</th>\n",
              "    </tr>\n",
              "  </thead>\n",
              "  <tbody>\n",
              "    <tr>\n",
              "      <th>0</th>\n",
              "      <td>There are constants    alpha  and    beta  suc...</td>\n",
              "      <td>5</td>\n",
              "    </tr>\n",
              "    <tr>\n",
              "      <th>1</th>\n",
              "      <td>The length of the segment between the points  ...</td>\n",
              "      <td>5</td>\n",
              "    </tr>\n",
              "    <tr>\n",
              "      <th>2</th>\n",
              "      <td>Chewbacca has 20 pieces of cherry gum and 30 p...</td>\n",
              "      <td>5</td>\n",
              "    </tr>\n",
              "    <tr>\n",
              "      <th>3</th>\n",
              "      <td>For some constants  a  and  b,  let   [f(x) = ...</td>\n",
              "      <td>5</td>\n",
              "    </tr>\n",
              "    <tr>\n",
              "      <th>4</th>\n",
              "      <td>Calculate the sum  1 + 3 + 5 +   cdots + 15 + ...</td>\n",
              "      <td>2</td>\n",
              "    </tr>\n",
              "  </tbody>\n",
              "</table>\n",
              "</div>\n",
              "      <button class=\"colab-df-convert\" onclick=\"convertToInteractive('df-c425bce5-bb4b-45bb-a2f3-097ec831511d')\"\n",
              "              title=\"Convert this dataframe to an interactive table.\"\n",
              "              style=\"display:none;\">\n",
              "        \n",
              "  <svg xmlns=\"http://www.w3.org/2000/svg\" height=\"24px\"viewBox=\"0 0 24 24\"\n",
              "       width=\"24px\">\n",
              "    <path d=\"M0 0h24v24H0V0z\" fill=\"none\"/>\n",
              "    <path d=\"M18.56 5.44l.94 2.06.94-2.06 2.06-.94-2.06-.94-.94-2.06-.94 2.06-2.06.94zm-11 1L8.5 8.5l.94-2.06 2.06-.94-2.06-.94L8.5 2.5l-.94 2.06-2.06.94zm10 10l.94 2.06.94-2.06 2.06-.94-2.06-.94-.94-2.06-.94 2.06-2.06.94z\"/><path d=\"M17.41 7.96l-1.37-1.37c-.4-.4-.92-.59-1.43-.59-.52 0-1.04.2-1.43.59L10.3 9.45l-7.72 7.72c-.78.78-.78 2.05 0 2.83L4 21.41c.39.39.9.59 1.41.59.51 0 1.02-.2 1.41-.59l7.78-7.78 2.81-2.81c.8-.78.8-2.07 0-2.86zM5.41 20L4 18.59l7.72-7.72 1.47 1.35L5.41 20z\"/>\n",
              "  </svg>\n",
              "      </button>\n",
              "      \n",
              "  <style>\n",
              "    .colab-df-container {\n",
              "      display:flex;\n",
              "      flex-wrap:wrap;\n",
              "      gap: 12px;\n",
              "    }\n",
              "\n",
              "    .colab-df-convert {\n",
              "      background-color: #E8F0FE;\n",
              "      border: none;\n",
              "      border-radius: 50%;\n",
              "      cursor: pointer;\n",
              "      display: none;\n",
              "      fill: #1967D2;\n",
              "      height: 32px;\n",
              "      padding: 0 0 0 0;\n",
              "      width: 32px;\n",
              "    }\n",
              "\n",
              "    .colab-df-convert:hover {\n",
              "      background-color: #E2EBFA;\n",
              "      box-shadow: 0px 1px 2px rgba(60, 64, 67, 0.3), 0px 1px 3px 1px rgba(60, 64, 67, 0.15);\n",
              "      fill: #174EA6;\n",
              "    }\n",
              "\n",
              "    [theme=dark] .colab-df-convert {\n",
              "      background-color: #3B4455;\n",
              "      fill: #D2E3FC;\n",
              "    }\n",
              "\n",
              "    [theme=dark] .colab-df-convert:hover {\n",
              "      background-color: #434B5C;\n",
              "      box-shadow: 0px 1px 3px 1px rgba(0, 0, 0, 0.15);\n",
              "      filter: drop-shadow(0px 1px 2px rgba(0, 0, 0, 0.3));\n",
              "      fill: #FFFFFF;\n",
              "    }\n",
              "  </style>\n",
              "\n",
              "      <script>\n",
              "        const buttonEl =\n",
              "          document.querySelector('#df-c425bce5-bb4b-45bb-a2f3-097ec831511d button.colab-df-convert');\n",
              "        buttonEl.style.display =\n",
              "          google.colab.kernel.accessAllowed ? 'block' : 'none';\n",
              "\n",
              "        async function convertToInteractive(key) {\n",
              "          const element = document.querySelector('#df-c425bce5-bb4b-45bb-a2f3-097ec831511d');\n",
              "          const dataTable =\n",
              "            await google.colab.kernel.invokeFunction('convertToInteractive',\n",
              "                                                     [key], {});\n",
              "          if (!dataTable) return;\n",
              "\n",
              "          const docLinkHtml = 'Like what you see? Visit the ' +\n",
              "            '<a target=\"_blank\" href=https://colab.research.google.com/notebooks/data_table.ipynb>data table notebook</a>'\n",
              "            + ' to learn more about interactive tables.';\n",
              "          element.innerHTML = '';\n",
              "          dataTable['output_type'] = 'display_data';\n",
              "          await google.colab.output.renderOutput(dataTable, element);\n",
              "          const docLink = document.createElement('div');\n",
              "          docLink.innerHTML = docLinkHtml;\n",
              "          element.appendChild(docLink);\n",
              "        }\n",
              "      </script>\n",
              "    </div>\n",
              "  </div>\n",
              "  "
            ]
          },
          "metadata": {},
          "execution_count": 6
        }
      ]
    },
    {
      "cell_type": "markdown",
      "source": [
        "#Function to count number of sentences in the problem."
      ],
      "metadata": {
        "id": "DgZLvliRuQ06"
      }
    },
    {
      "cell_type": "code",
      "source": [
        "def count_sentences(data):\n",
        "  number_of_sentences = sent_tokenize(data)\n",
        "  return len(number_of_sentences)"
      ],
      "metadata": {
        "id": "Cmt_qSgruLpp"
      },
      "execution_count": 7,
      "outputs": []
    },
    {
      "cell_type": "markdown",
      "source": [
        "#Count Words"
      ],
      "metadata": {
        "id": "UaQkt97MwErz"
      }
    },
    {
      "cell_type": "code",
      "source": [
        "def count_words(data):\n",
        "  number_of_words = len(data.split())\n",
        "  return number_of_words"
      ],
      "metadata": {
        "id": "Jgy0uxXgwDWq"
      },
      "execution_count": 8,
      "outputs": []
    },
    {
      "cell_type": "markdown",
      "source": [
        "#Math Words"
      ],
      "metadata": {
        "id": "wRWDtx3SueRY"
      }
    },
    {
      "cell_type": "code",
      "source": [
        "path = \"/content/drive/MyDrive/Math Words.csv\"\n",
        "df_cw = pd.read_csv(path)\n",
        "df_cw = df_cw.iloc[:,1]\n",
        "df_cw.head()"
      ],
      "metadata": {
        "colab": {
          "base_uri": "https://localhost:8080/"
        },
        "id": "MJZ3br5luUM7",
        "outputId": "0d69fa04-ed68-4a2a-9690-143e7a32f939"
      },
      "execution_count": 9,
      "outputs": [
        {
          "output_type": "execute_result",
          "data": {
            "text/plain": [
              "0       x\n",
              "1    What\n",
              "2    frac\n",
              "3       f\n",
              "4       b\n",
              "Name: Word, dtype: object"
            ]
          },
          "metadata": {},
          "execution_count": 9
        }
      ]
    },
    {
      "cell_type": "code",
      "source": [
        "#Say we choose words of length >2 alone - to avoid x, f, b etc. \n",
        "complex_words = []\n",
        "for i in df_cw:\n",
        "  if len(i)>1:\n",
        "    complex_words.append(i)"
      ],
      "metadata": {
        "id": "UO16aRAPzwIZ"
      },
      "execution_count": 10,
      "outputs": []
    },
    {
      "cell_type": "code",
      "source": [
        "def count_cw(data):\n",
        "  total_count = 0\n",
        "  data = data.split()\n",
        "  for word in data: \n",
        "    if word in complex_words:\n",
        "      total_count = total_count+1\n",
        "  return total_count"
      ],
      "metadata": {
        "id": "NsyD5XcSusO4"
      },
      "execution_count": 11,
      "outputs": []
    },
    {
      "cell_type": "markdown",
      "source": [
        "#Math Symbols"
      ],
      "metadata": {
        "id": "PCPclfKAvKdA"
      }
    },
    {
      "cell_type": "code",
      "source": [
        "math_symbols = []\n",
        "l = \"!@#$%^&*()[]{}:;<>+=-/?.,\"\n",
        "for i in l:\n",
        "  math_symbols.append(i)"
      ],
      "metadata": {
        "id": "24FAGa5RvJNw"
      },
      "execution_count": 12,
      "outputs": []
    },
    {
      "cell_type": "code",
      "source": [
        "def count_symbols(data):\n",
        "  total_count = 0\n",
        "  data = data.split()\n",
        "  for word in data: \n",
        "    if word in math_symbols:\n",
        "      total_count = total_count+1\n",
        "  return total_count"
      ],
      "metadata": {
        "id": "ubBveqelvy7k"
      },
      "execution_count": 13,
      "outputs": []
    },
    {
      "cell_type": "markdown",
      "source": [
        "#Count of Numbers "
      ],
      "metadata": {
        "id": "FSilIAHzw0xq"
      }
    },
    {
      "cell_type": "code",
      "source": [
        "def count_nums(data):\n",
        "  total_count = 0\n",
        "  data = data.split()\n",
        "  for word in data: \n",
        "    if word.isalpha() == False:\n",
        "      total_count = total_count+1\n",
        "  return total_count"
      ],
      "metadata": {
        "id": "v1Mw8RS_w3JZ"
      },
      "execution_count": 14,
      "outputs": []
    },
    {
      "cell_type": "markdown",
      "source": [
        "#Extract Features"
      ],
      "metadata": {
        "id": "1eUaoVoUv874"
      }
    },
    {
      "cell_type": "code",
      "source": [
        "WordsPerSentence = []\n",
        "MathWordsPerSentence = []\n",
        "MathSymbolsPerSentence = [] \n",
        "NumCountPerSentence = []"
      ],
      "metadata": {
        "id": "UM89u69FvB5E"
      },
      "execution_count": 15,
      "outputs": []
    },
    {
      "cell_type": "code",
      "source": [
        "for i in df.iloc[:,0]:\n",
        "  s = count_sentences(i)\n",
        "  w = count_words(i)\n",
        "  mw = count_cw(i)\n",
        "  ms = count_symbols(i)\n",
        "  n = count_nums(i) \n",
        "\n",
        "  WordsPerSentence.append(w/s) \n",
        "  MathWordsPerSentence.append(mw/s)  \n",
        "  MathSymbolsPerSentence.append(ms/s)   \n",
        "  NumCountPerSentence.append(n/s)  "
      ],
      "metadata": {
        "id": "5RChWcbKwOzw"
      },
      "execution_count": 16,
      "outputs": []
    },
    {
      "cell_type": "code",
      "source": [
        "df.head()"
      ],
      "metadata": {
        "colab": {
          "base_uri": "https://localhost:8080/",
          "height": 206
        },
        "id": "9tJ1debRwUBJ",
        "outputId": "bb1400df-c6f4-4460-c421-d67c9116b4f8"
      },
      "execution_count": 17,
      "outputs": [
        {
          "output_type": "execute_result",
          "data": {
            "text/plain": [
              "                                            Problem   Level \n",
              "0  There are constants    alpha  and    beta  suc...       5\n",
              "1  The length of the segment between the points  ...       5\n",
              "2  Chewbacca has 20 pieces of cherry gum and 30 p...       5\n",
              "3  For some constants  a  and  b,  let   [f(x) = ...       5\n",
              "4  Calculate the sum  1 + 3 + 5 +   cdots + 15 + ...       2"
            ],
            "text/html": [
              "\n",
              "  <div id=\"df-a1631b6f-8d9a-4746-892e-e9f9920a8a9e\">\n",
              "    <div class=\"colab-df-container\">\n",
              "      <div>\n",
              "<style scoped>\n",
              "    .dataframe tbody tr th:only-of-type {\n",
              "        vertical-align: middle;\n",
              "    }\n",
              "\n",
              "    .dataframe tbody tr th {\n",
              "        vertical-align: top;\n",
              "    }\n",
              "\n",
              "    .dataframe thead th {\n",
              "        text-align: right;\n",
              "    }\n",
              "</style>\n",
              "<table border=\"1\" class=\"dataframe\">\n",
              "  <thead>\n",
              "    <tr style=\"text-align: right;\">\n",
              "      <th></th>\n",
              "      <th>Problem</th>\n",
              "      <th>Level</th>\n",
              "    </tr>\n",
              "  </thead>\n",
              "  <tbody>\n",
              "    <tr>\n",
              "      <th>0</th>\n",
              "      <td>There are constants    alpha  and    beta  suc...</td>\n",
              "      <td>5</td>\n",
              "    </tr>\n",
              "    <tr>\n",
              "      <th>1</th>\n",
              "      <td>The length of the segment between the points  ...</td>\n",
              "      <td>5</td>\n",
              "    </tr>\n",
              "    <tr>\n",
              "      <th>2</th>\n",
              "      <td>Chewbacca has 20 pieces of cherry gum and 30 p...</td>\n",
              "      <td>5</td>\n",
              "    </tr>\n",
              "    <tr>\n",
              "      <th>3</th>\n",
              "      <td>For some constants  a  and  b,  let   [f(x) = ...</td>\n",
              "      <td>5</td>\n",
              "    </tr>\n",
              "    <tr>\n",
              "      <th>4</th>\n",
              "      <td>Calculate the sum  1 + 3 + 5 +   cdots + 15 + ...</td>\n",
              "      <td>2</td>\n",
              "    </tr>\n",
              "  </tbody>\n",
              "</table>\n",
              "</div>\n",
              "      <button class=\"colab-df-convert\" onclick=\"convertToInteractive('df-a1631b6f-8d9a-4746-892e-e9f9920a8a9e')\"\n",
              "              title=\"Convert this dataframe to an interactive table.\"\n",
              "              style=\"display:none;\">\n",
              "        \n",
              "  <svg xmlns=\"http://www.w3.org/2000/svg\" height=\"24px\"viewBox=\"0 0 24 24\"\n",
              "       width=\"24px\">\n",
              "    <path d=\"M0 0h24v24H0V0z\" fill=\"none\"/>\n",
              "    <path d=\"M18.56 5.44l.94 2.06.94-2.06 2.06-.94-2.06-.94-.94-2.06-.94 2.06-2.06.94zm-11 1L8.5 8.5l.94-2.06 2.06-.94-2.06-.94L8.5 2.5l-.94 2.06-2.06.94zm10 10l.94 2.06.94-2.06 2.06-.94-2.06-.94-.94-2.06-.94 2.06-2.06.94z\"/><path d=\"M17.41 7.96l-1.37-1.37c-.4-.4-.92-.59-1.43-.59-.52 0-1.04.2-1.43.59L10.3 9.45l-7.72 7.72c-.78.78-.78 2.05 0 2.83L4 21.41c.39.39.9.59 1.41.59.51 0 1.02-.2 1.41-.59l7.78-7.78 2.81-2.81c.8-.78.8-2.07 0-2.86zM5.41 20L4 18.59l7.72-7.72 1.47 1.35L5.41 20z\"/>\n",
              "  </svg>\n",
              "      </button>\n",
              "      \n",
              "  <style>\n",
              "    .colab-df-container {\n",
              "      display:flex;\n",
              "      flex-wrap:wrap;\n",
              "      gap: 12px;\n",
              "    }\n",
              "\n",
              "    .colab-df-convert {\n",
              "      background-color: #E8F0FE;\n",
              "      border: none;\n",
              "      border-radius: 50%;\n",
              "      cursor: pointer;\n",
              "      display: none;\n",
              "      fill: #1967D2;\n",
              "      height: 32px;\n",
              "      padding: 0 0 0 0;\n",
              "      width: 32px;\n",
              "    }\n",
              "\n",
              "    .colab-df-convert:hover {\n",
              "      background-color: #E2EBFA;\n",
              "      box-shadow: 0px 1px 2px rgba(60, 64, 67, 0.3), 0px 1px 3px 1px rgba(60, 64, 67, 0.15);\n",
              "      fill: #174EA6;\n",
              "    }\n",
              "\n",
              "    [theme=dark] .colab-df-convert {\n",
              "      background-color: #3B4455;\n",
              "      fill: #D2E3FC;\n",
              "    }\n",
              "\n",
              "    [theme=dark] .colab-df-convert:hover {\n",
              "      background-color: #434B5C;\n",
              "      box-shadow: 0px 1px 3px 1px rgba(0, 0, 0, 0.15);\n",
              "      filter: drop-shadow(0px 1px 2px rgba(0, 0, 0, 0.3));\n",
              "      fill: #FFFFFF;\n",
              "    }\n",
              "  </style>\n",
              "\n",
              "      <script>\n",
              "        const buttonEl =\n",
              "          document.querySelector('#df-a1631b6f-8d9a-4746-892e-e9f9920a8a9e button.colab-df-convert');\n",
              "        buttonEl.style.display =\n",
              "          google.colab.kernel.accessAllowed ? 'block' : 'none';\n",
              "\n",
              "        async function convertToInteractive(key) {\n",
              "          const element = document.querySelector('#df-a1631b6f-8d9a-4746-892e-e9f9920a8a9e');\n",
              "          const dataTable =\n",
              "            await google.colab.kernel.invokeFunction('convertToInteractive',\n",
              "                                                     [key], {});\n",
              "          if (!dataTable) return;\n",
              "\n",
              "          const docLinkHtml = 'Like what you see? Visit the ' +\n",
              "            '<a target=\"_blank\" href=https://colab.research.google.com/notebooks/data_table.ipynb>data table notebook</a>'\n",
              "            + ' to learn more about interactive tables.';\n",
              "          element.innerHTML = '';\n",
              "          dataTable['output_type'] = 'display_data';\n",
              "          await google.colab.output.renderOutput(dataTable, element);\n",
              "          const docLink = document.createElement('div');\n",
              "          docLink.innerHTML = docLinkHtml;\n",
              "          element.appendChild(docLink);\n",
              "        }\n",
              "      </script>\n",
              "    </div>\n",
              "  </div>\n",
              "  "
            ]
          },
          "metadata": {},
          "execution_count": 17
        }
      ]
    },
    {
      "cell_type": "code",
      "source": [
        "df_data = pd.DataFrame() \n",
        "df_data[\"WordsPerSentence\"] = WordsPerSentence\n",
        "df_data[\"MathWordsPerSentence\"] = MathWordsPerSentence\n",
        "df_data[\"MathSymbolsPerSentence\"] = MathSymbolsPerSentence\n",
        "df_data[\"NumCountPerSentence\"] = NumCountPerSentence\n",
        "df_data[\"Level\"] = df.iloc[:,1]\n",
        "df_data.head()"
      ],
      "metadata": {
        "colab": {
          "base_uri": "https://localhost:8080/",
          "height": 206
        },
        "id": "B9B8sOdWyaW1",
        "outputId": "6c24b4bf-cbfe-4c11-bbfe-90b47631cfa7"
      },
      "execution_count": 18,
      "outputs": [
        {
          "output_type": "execute_result",
          "data": {
            "text/plain": [
              "   WordsPerSentence  MathWordsPerSentence  MathSymbolsPerSentence  \\\n",
              "0          9.500000                   3.0                1.500000   \n",
              "1         14.000000                   4.0                0.500000   \n",
              "2         16.200000                   7.2                0.200000   \n",
              "3         16.666667                   3.0                3.666667   \n",
              "4         15.000000                   3.0                6.000000   \n",
              "\n",
              "   NumCountPerSentence  Level  \n",
              "0             4.000000      5  \n",
              "1             4.000000      5  \n",
              "2             2.000000      5  \n",
              "3             8.666667      5  \n",
              "4            11.000000      2  "
            ],
            "text/html": [
              "\n",
              "  <div id=\"df-17e9e534-a475-44c4-9d13-d36d78936be7\">\n",
              "    <div class=\"colab-df-container\">\n",
              "      <div>\n",
              "<style scoped>\n",
              "    .dataframe tbody tr th:only-of-type {\n",
              "        vertical-align: middle;\n",
              "    }\n",
              "\n",
              "    .dataframe tbody tr th {\n",
              "        vertical-align: top;\n",
              "    }\n",
              "\n",
              "    .dataframe thead th {\n",
              "        text-align: right;\n",
              "    }\n",
              "</style>\n",
              "<table border=\"1\" class=\"dataframe\">\n",
              "  <thead>\n",
              "    <tr style=\"text-align: right;\">\n",
              "      <th></th>\n",
              "      <th>WordsPerSentence</th>\n",
              "      <th>MathWordsPerSentence</th>\n",
              "      <th>MathSymbolsPerSentence</th>\n",
              "      <th>NumCountPerSentence</th>\n",
              "      <th>Level</th>\n",
              "    </tr>\n",
              "  </thead>\n",
              "  <tbody>\n",
              "    <tr>\n",
              "      <th>0</th>\n",
              "      <td>9.500000</td>\n",
              "      <td>3.0</td>\n",
              "      <td>1.500000</td>\n",
              "      <td>4.000000</td>\n",
              "      <td>5</td>\n",
              "    </tr>\n",
              "    <tr>\n",
              "      <th>1</th>\n",
              "      <td>14.000000</td>\n",
              "      <td>4.0</td>\n",
              "      <td>0.500000</td>\n",
              "      <td>4.000000</td>\n",
              "      <td>5</td>\n",
              "    </tr>\n",
              "    <tr>\n",
              "      <th>2</th>\n",
              "      <td>16.200000</td>\n",
              "      <td>7.2</td>\n",
              "      <td>0.200000</td>\n",
              "      <td>2.000000</td>\n",
              "      <td>5</td>\n",
              "    </tr>\n",
              "    <tr>\n",
              "      <th>3</th>\n",
              "      <td>16.666667</td>\n",
              "      <td>3.0</td>\n",
              "      <td>3.666667</td>\n",
              "      <td>8.666667</td>\n",
              "      <td>5</td>\n",
              "    </tr>\n",
              "    <tr>\n",
              "      <th>4</th>\n",
              "      <td>15.000000</td>\n",
              "      <td>3.0</td>\n",
              "      <td>6.000000</td>\n",
              "      <td>11.000000</td>\n",
              "      <td>2</td>\n",
              "    </tr>\n",
              "  </tbody>\n",
              "</table>\n",
              "</div>\n",
              "      <button class=\"colab-df-convert\" onclick=\"convertToInteractive('df-17e9e534-a475-44c4-9d13-d36d78936be7')\"\n",
              "              title=\"Convert this dataframe to an interactive table.\"\n",
              "              style=\"display:none;\">\n",
              "        \n",
              "  <svg xmlns=\"http://www.w3.org/2000/svg\" height=\"24px\"viewBox=\"0 0 24 24\"\n",
              "       width=\"24px\">\n",
              "    <path d=\"M0 0h24v24H0V0z\" fill=\"none\"/>\n",
              "    <path d=\"M18.56 5.44l.94 2.06.94-2.06 2.06-.94-2.06-.94-.94-2.06-.94 2.06-2.06.94zm-11 1L8.5 8.5l.94-2.06 2.06-.94-2.06-.94L8.5 2.5l-.94 2.06-2.06.94zm10 10l.94 2.06.94-2.06 2.06-.94-2.06-.94-.94-2.06-.94 2.06-2.06.94z\"/><path d=\"M17.41 7.96l-1.37-1.37c-.4-.4-.92-.59-1.43-.59-.52 0-1.04.2-1.43.59L10.3 9.45l-7.72 7.72c-.78.78-.78 2.05 0 2.83L4 21.41c.39.39.9.59 1.41.59.51 0 1.02-.2 1.41-.59l7.78-7.78 2.81-2.81c.8-.78.8-2.07 0-2.86zM5.41 20L4 18.59l7.72-7.72 1.47 1.35L5.41 20z\"/>\n",
              "  </svg>\n",
              "      </button>\n",
              "      \n",
              "  <style>\n",
              "    .colab-df-container {\n",
              "      display:flex;\n",
              "      flex-wrap:wrap;\n",
              "      gap: 12px;\n",
              "    }\n",
              "\n",
              "    .colab-df-convert {\n",
              "      background-color: #E8F0FE;\n",
              "      border: none;\n",
              "      border-radius: 50%;\n",
              "      cursor: pointer;\n",
              "      display: none;\n",
              "      fill: #1967D2;\n",
              "      height: 32px;\n",
              "      padding: 0 0 0 0;\n",
              "      width: 32px;\n",
              "    }\n",
              "\n",
              "    .colab-df-convert:hover {\n",
              "      background-color: #E2EBFA;\n",
              "      box-shadow: 0px 1px 2px rgba(60, 64, 67, 0.3), 0px 1px 3px 1px rgba(60, 64, 67, 0.15);\n",
              "      fill: #174EA6;\n",
              "    }\n",
              "\n",
              "    [theme=dark] .colab-df-convert {\n",
              "      background-color: #3B4455;\n",
              "      fill: #D2E3FC;\n",
              "    }\n",
              "\n",
              "    [theme=dark] .colab-df-convert:hover {\n",
              "      background-color: #434B5C;\n",
              "      box-shadow: 0px 1px 3px 1px rgba(0, 0, 0, 0.15);\n",
              "      filter: drop-shadow(0px 1px 2px rgba(0, 0, 0, 0.3));\n",
              "      fill: #FFFFFF;\n",
              "    }\n",
              "  </style>\n",
              "\n",
              "      <script>\n",
              "        const buttonEl =\n",
              "          document.querySelector('#df-17e9e534-a475-44c4-9d13-d36d78936be7 button.colab-df-convert');\n",
              "        buttonEl.style.display =\n",
              "          google.colab.kernel.accessAllowed ? 'block' : 'none';\n",
              "\n",
              "        async function convertToInteractive(key) {\n",
              "          const element = document.querySelector('#df-17e9e534-a475-44c4-9d13-d36d78936be7');\n",
              "          const dataTable =\n",
              "            await google.colab.kernel.invokeFunction('convertToInteractive',\n",
              "                                                     [key], {});\n",
              "          if (!dataTable) return;\n",
              "\n",
              "          const docLinkHtml = 'Like what you see? Visit the ' +\n",
              "            '<a target=\"_blank\" href=https://colab.research.google.com/notebooks/data_table.ipynb>data table notebook</a>'\n",
              "            + ' to learn more about interactive tables.';\n",
              "          element.innerHTML = '';\n",
              "          dataTable['output_type'] = 'display_data';\n",
              "          await google.colab.output.renderOutput(dataTable, element);\n",
              "          const docLink = document.createElement('div');\n",
              "          docLink.innerHTML = docLinkHtml;\n",
              "          element.appendChild(docLink);\n",
              "        }\n",
              "      </script>\n",
              "    </div>\n",
              "  </div>\n",
              "  "
            ]
          },
          "metadata": {},
          "execution_count": 18
        }
      ]
    },
    {
      "cell_type": "markdown",
      "source": [
        "#Logistic Regression"
      ],
      "metadata": {
        "id": "1DC1Vyxg1bRI"
      }
    },
    {
      "cell_type": "code",
      "source": [
        "X = df_data.drop(['Level'], axis=1) \n",
        "y = df_data['Level']"
      ],
      "metadata": {
        "id": "DxmrXh-_zRAH"
      },
      "execution_count": 19,
      "outputs": []
    },
    {
      "cell_type": "code",
      "source": [
        "#Combine Difficulty Levels: 1,2=1. 3=2. 4,5=3.\n",
        "y = y.replace(to_replace = 2, value = 1)\n",
        "y = y.replace(to_replace = 3, value = 2)\n",
        "y = y.replace(to_replace = 4, value = 3)\n",
        "y = y.replace(to_replace = 5, value = 3)"
      ],
      "metadata": {
        "id": "EAaBcCc74lks"
      },
      "execution_count": 20,
      "outputs": []
    },
    {
      "cell_type": "code",
      "source": [
        "y"
      ],
      "metadata": {
        "colab": {
          "base_uri": "https://localhost:8080/"
        },
        "id": "F8wty1kC4Lmc",
        "outputId": "284ba26b-2a2b-4764-805a-93ce63418af0"
      },
      "execution_count": 21,
      "outputs": [
        {
          "output_type": "execute_result",
          "data": {
            "text/plain": [
              "0       3\n",
              "1       3\n",
              "2       3\n",
              "3       3\n",
              "4       1\n",
              "       ..\n",
              "1739    1\n",
              "1740    3\n",
              "1741    2\n",
              "1742    2\n",
              "1743    3\n",
              "Name: Level, Length: 1744, dtype: int64"
            ]
          },
          "metadata": {},
          "execution_count": 21
        }
      ]
    },
    {
      "cell_type": "code",
      "source": [
        "X_train, X_test, y_train, y_test = sklearn.model_selection.train_test_split(X, y, test_size = 0.20, random_state = 5)\n",
        "print(X_train.shape)\n",
        "print(X_test.shape)\n",
        "print(y_train.shape)\n",
        "print(y_test.shape)"
      ],
      "metadata": {
        "colab": {
          "base_uri": "https://localhost:8080/"
        },
        "id": "BepdOGfk1SE0",
        "outputId": "3f8b278a-75f7-46ea-939f-be385ff2df3e"
      },
      "execution_count": 22,
      "outputs": [
        {
          "output_type": "stream",
          "name": "stdout",
          "text": [
            "(1395, 4)\n",
            "(349, 4)\n",
            "(1395,)\n",
            "(349,)\n"
          ]
        }
      ]
    },
    {
      "cell_type": "code",
      "source": [
        "model1 = LogisticRegression(random_state=0, multi_class='multinomial', penalty='l1', solver='saga').fit(X_train, y_train)\n",
        "preds = model1.predict(X_test)"
      ],
      "metadata": {
        "colab": {
          "base_uri": "https://localhost:8080/"
        },
        "id": "UNe_mfS-1rQ-",
        "outputId": "b39d261e-58ef-4d68-a42f-9f5192682e67"
      },
      "execution_count": 23,
      "outputs": [
        {
          "output_type": "stream",
          "name": "stderr",
          "text": [
            "/usr/local/lib/python3.7/dist-packages/sklearn/linear_model/_sag.py:354: ConvergenceWarning: The max_iter was reached which means the coef_ did not converge\n",
            "  ConvergenceWarning,\n"
          ]
        }
      ]
    },
    {
      "cell_type": "code",
      "source": [
        "params = model1.get_params()\n",
        "print(params)"
      ],
      "metadata": {
        "colab": {
          "base_uri": "https://localhost:8080/"
        },
        "id": "4eBRm_AJ1zoo",
        "outputId": "a0b52c48-6564-443e-9437-5b1dc74486ec"
      },
      "execution_count": 24,
      "outputs": [
        {
          "output_type": "stream",
          "name": "stdout",
          "text": [
            "{'C': 1.0, 'class_weight': None, 'dual': False, 'fit_intercept': True, 'intercept_scaling': 1, 'l1_ratio': None, 'max_iter': 100, 'multi_class': 'multinomial', 'n_jobs': None, 'penalty': 'l1', 'random_state': 0, 'solver': 'saga', 'tol': 0.0001, 'verbose': 0, 'warm_start': False}\n"
          ]
        }
      ]
    },
    {
      "cell_type": "code",
      "source": [
        "print('Intercept: \\n', model1.intercept_)\n",
        "print('Coefficients: \\n', model1.coef_)"
      ],
      "metadata": {
        "colab": {
          "base_uri": "https://localhost:8080/"
        },
        "id": "g6be5G0V11hH",
        "outputId": "ce09318c-a826-48f1-d6ad-26505f6f3002"
      },
      "execution_count": 25,
      "outputs": [
        {
          "output_type": "stream",
          "name": "stdout",
          "text": [
            "Intercept: \n",
            " [ 0.20013719 -0.11813336 -0.08200384]\n",
            "Coefficients: \n",
            " [[-3.96370053e-02  2.50929101e-02  4.01972355e-02  2.67869156e-02]\n",
            " [-1.05489045e-02  0.00000000e+00  1.84018422e-02 -2.65519501e-07]\n",
            " [ 6.10977211e-02 -1.87787316e-02 -6.94124857e-02 -2.41794554e-02]]\n"
          ]
        }
      ]
    },
    {
      "cell_type": "code",
      "source": [
        "np.exp(model1.coef_)"
      ],
      "metadata": {
        "colab": {
          "base_uri": "https://localhost:8080/"
        },
        "id": "SGqHJjWz186I",
        "outputId": "8f9bd4d3-effe-4755-8b6e-7693b37528c2"
      },
      "execution_count": 26,
      "outputs": [
        {
          "output_type": "execute_result",
          "data": {
            "text/plain": [
              "array([[0.96113826, 1.02541039, 1.04101608, 1.02714891],\n",
              "       [0.98950654, 1.        , 1.0185722 , 0.99999973],\n",
              "       [1.06300279, 0.98139649, 0.93294178, 0.97611053]])"
            ]
          },
          "metadata": {},
          "execution_count": 26
        }
      ]
    },
    {
      "cell_type": "code",
      "source": [
        "print('Accuracy Score:', metrics.accuracy_score(y_test, preds))  "
      ],
      "metadata": {
        "colab": {
          "base_uri": "https://localhost:8080/"
        },
        "id": "PDMNWiem2ROT",
        "outputId": "bfd6c938-5cee-48fa-d667-f321eb35d290"
      },
      "execution_count": 27,
      "outputs": [
        {
          "output_type": "stream",
          "name": "stdout",
          "text": [
            "Accuracy Score: 0.5243553008595988\n"
          ]
        }
      ]
    },
    {
      "cell_type": "code",
      "source": [
        "y_train = y_train.tolist()\n",
        "type(y_train)"
      ],
      "metadata": {
        "colab": {
          "base_uri": "https://localhost:8080/"
        },
        "id": "1eU6MXV2qSRw",
        "outputId": "0aa9f423-bd48-48ca-be40-b7b429c48c3c"
      },
      "execution_count": 37,
      "outputs": [
        {
          "output_type": "execute_result",
          "data": {
            "text/plain": [
              "list"
            ]
          },
          "metadata": {},
          "execution_count": 37
        }
      ]
    },
    {
      "cell_type": "code",
      "source": [
        "#One hot encoding of Y_train, Y_test\n",
        "b = np.zeros((1395, 3)) #Train data size=1394\n",
        "j = 0\n",
        "for j in range(1395):\n",
        "  b[j, y_train[j]-1]=1 #-1 to account for 0 based index"
      ],
      "metadata": {
        "id": "04eLPXqGpGGA"
      },
      "execution_count": 51,
      "outputs": []
    },
    {
      "cell_type": "code",
      "source": [
        "#Initialising ANN - 2 hidden layers, 1 input layer, and 1 output layer\n",
        "ann = Sequential([\n",
        "\n",
        "#Adding First Hidden Layer\n",
        "Dense(units=6,activation=\"relu\", input_shape = (X_train.shape[1],)), #6=number of neurons in 1st hidden layer. \n",
        "#Adding Hidden Layers\n",
        "Dense(units=12,activation=\"relu\"),\n",
        "Dense(units=24,activation=\"relu\"),\n",
        "Dense(units=48,activation=\"relu\"),\n",
        "Dense(units=96,activation=\"relu\"),\n",
        "\n",
        "#Adding Output Layer\n",
        "#For the binary classification Problems, the activation function that should always be used is sigmoid.\n",
        "#For a multiclass classification problem, the activation function that should be used is softmax.\n",
        "Dense(units=3,activation=\"softmax\"), #3 neurons since 3 classes. \n",
        "\n",
        "]) \n",
        "\n"
      ],
      "metadata": {
        "id": "WNExlEN6qd0d"
      },
      "execution_count": 59,
      "outputs": []
    },
    {
      "cell_type": "code",
      "source": [
        "#Compiling ANN\n",
        "ann.compile(optimizer=\"adam\",loss=\"categorical_crossentropy\",metrics=['accuracy'])\n",
        "#Fitting ANN\n",
        "hist = ann.fit(X_train, b, batch_size=32, epochs = 100) "
      ],
      "metadata": {
        "colab": {
          "base_uri": "https://localhost:8080/"
        },
        "id": "lQWqD1qvqmm_",
        "outputId": "edbd6b0f-6e7c-43c3-dec5-04fbe71d7ed9"
      },
      "execution_count": 60,
      "outputs": [
        {
          "output_type": "stream",
          "name": "stdout",
          "text": [
            "Epoch 1/100\n",
            "44/44 [==============================] - 1s 2ms/step - loss: 1.0387 - accuracy: 0.4753\n",
            "Epoch 2/100\n",
            "44/44 [==============================] - 0s 2ms/step - loss: 1.0321 - accuracy: 0.5018\n",
            "Epoch 3/100\n",
            "44/44 [==============================] - 0s 2ms/step - loss: 1.0256 - accuracy: 0.5054\n",
            "Epoch 4/100\n",
            "44/44 [==============================] - 0s 2ms/step - loss: 1.0259 - accuracy: 0.4996\n",
            "Epoch 5/100\n",
            "44/44 [==============================] - 0s 2ms/step - loss: 1.0222 - accuracy: 0.5068\n",
            "Epoch 6/100\n",
            "44/44 [==============================] - 0s 2ms/step - loss: 1.0194 - accuracy: 0.5111\n",
            "Epoch 7/100\n",
            "44/44 [==============================] - 0s 2ms/step - loss: 1.0144 - accuracy: 0.5219\n",
            "Epoch 8/100\n",
            "44/44 [==============================] - 0s 2ms/step - loss: 1.0153 - accuracy: 0.5111\n",
            "Epoch 9/100\n",
            "44/44 [==============================] - 0s 2ms/step - loss: 1.0132 - accuracy: 0.5125\n",
            "Epoch 10/100\n",
            "44/44 [==============================] - 0s 2ms/step - loss: 1.0220 - accuracy: 0.5004\n",
            "Epoch 11/100\n",
            "44/44 [==============================] - 0s 2ms/step - loss: 1.0138 - accuracy: 0.5111\n",
            "Epoch 12/100\n",
            "44/44 [==============================] - 0s 2ms/step - loss: 1.0159 - accuracy: 0.5133\n",
            "Epoch 13/100\n",
            "44/44 [==============================] - 0s 2ms/step - loss: 1.0186 - accuracy: 0.5082\n",
            "Epoch 14/100\n",
            "44/44 [==============================] - 0s 2ms/step - loss: 1.0073 - accuracy: 0.5176\n",
            "Epoch 15/100\n",
            "44/44 [==============================] - 0s 2ms/step - loss: 1.0123 - accuracy: 0.5140\n",
            "Epoch 16/100\n",
            "44/44 [==============================] - 0s 2ms/step - loss: 1.0122 - accuracy: 0.5183\n",
            "Epoch 17/100\n",
            "44/44 [==============================] - 0s 2ms/step - loss: 1.0090 - accuracy: 0.5161\n",
            "Epoch 18/100\n",
            "44/44 [==============================] - 0s 2ms/step - loss: 1.0139 - accuracy: 0.5168\n",
            "Epoch 19/100\n",
            "44/44 [==============================] - 0s 2ms/step - loss: 1.0073 - accuracy: 0.5190\n",
            "Epoch 20/100\n",
            "44/44 [==============================] - 0s 2ms/step - loss: 1.0105 - accuracy: 0.5168\n",
            "Epoch 21/100\n",
            "44/44 [==============================] - 0s 2ms/step - loss: 1.0082 - accuracy: 0.5154\n",
            "Epoch 22/100\n",
            "44/44 [==============================] - 0s 2ms/step - loss: 1.0059 - accuracy: 0.5219\n",
            "Epoch 23/100\n",
            "44/44 [==============================] - 0s 2ms/step - loss: 1.0053 - accuracy: 0.5190\n",
            "Epoch 24/100\n",
            "44/44 [==============================] - 0s 2ms/step - loss: 1.0078 - accuracy: 0.5154\n",
            "Epoch 25/100\n",
            "44/44 [==============================] - 0s 2ms/step - loss: 1.0043 - accuracy: 0.5125\n",
            "Epoch 26/100\n",
            "44/44 [==============================] - 0s 2ms/step - loss: 1.0015 - accuracy: 0.5140\n",
            "Epoch 27/100\n",
            "44/44 [==============================] - 0s 2ms/step - loss: 0.9994 - accuracy: 0.5097\n",
            "Epoch 28/100\n",
            "44/44 [==============================] - 0s 2ms/step - loss: 1.0057 - accuracy: 0.5211\n",
            "Epoch 29/100\n",
            "44/44 [==============================] - 0s 2ms/step - loss: 1.0026 - accuracy: 0.5247\n",
            "Epoch 30/100\n",
            "44/44 [==============================] - 0s 2ms/step - loss: 0.9992 - accuracy: 0.5190\n",
            "Epoch 31/100\n",
            "44/44 [==============================] - 0s 2ms/step - loss: 1.0034 - accuracy: 0.5219\n",
            "Epoch 32/100\n",
            "44/44 [==============================] - 0s 2ms/step - loss: 1.0004 - accuracy: 0.5262\n",
            "Epoch 33/100\n",
            "44/44 [==============================] - 0s 2ms/step - loss: 1.0007 - accuracy: 0.5247\n",
            "Epoch 34/100\n",
            "44/44 [==============================] - 0s 2ms/step - loss: 0.9978 - accuracy: 0.5176\n",
            "Epoch 35/100\n",
            "44/44 [==============================] - 0s 2ms/step - loss: 0.9998 - accuracy: 0.5204\n",
            "Epoch 36/100\n",
            "44/44 [==============================] - 0s 2ms/step - loss: 0.9999 - accuracy: 0.5183\n",
            "Epoch 37/100\n",
            "44/44 [==============================] - 0s 2ms/step - loss: 0.9981 - accuracy: 0.5233\n",
            "Epoch 38/100\n",
            "44/44 [==============================] - 0s 2ms/step - loss: 0.9968 - accuracy: 0.5219\n",
            "Epoch 39/100\n",
            "44/44 [==============================] - 0s 2ms/step - loss: 1.0007 - accuracy: 0.5197\n",
            "Epoch 40/100\n",
            "44/44 [==============================] - 0s 2ms/step - loss: 0.9975 - accuracy: 0.5312\n",
            "Epoch 41/100\n",
            "44/44 [==============================] - 0s 2ms/step - loss: 0.9953 - accuracy: 0.5197\n",
            "Epoch 42/100\n",
            "44/44 [==============================] - 0s 2ms/step - loss: 0.9917 - accuracy: 0.5341\n",
            "Epoch 43/100\n",
            "44/44 [==============================] - 0s 2ms/step - loss: 0.9961 - accuracy: 0.5262\n",
            "Epoch 44/100\n",
            "44/44 [==============================] - 0s 2ms/step - loss: 0.9973 - accuracy: 0.5226\n",
            "Epoch 45/100\n",
            "44/44 [==============================] - 0s 2ms/step - loss: 0.9959 - accuracy: 0.5290\n",
            "Epoch 46/100\n",
            "44/44 [==============================] - 0s 2ms/step - loss: 0.9933 - accuracy: 0.5204\n",
            "Epoch 47/100\n",
            "44/44 [==============================] - 0s 2ms/step - loss: 0.9906 - accuracy: 0.5204\n",
            "Epoch 48/100\n",
            "44/44 [==============================] - 0s 2ms/step - loss: 0.9899 - accuracy: 0.5283\n",
            "Epoch 49/100\n",
            "44/44 [==============================] - 0s 2ms/step - loss: 0.9894 - accuracy: 0.5333\n",
            "Epoch 50/100\n",
            "44/44 [==============================] - 0s 3ms/step - loss: 0.9925 - accuracy: 0.5276\n",
            "Epoch 51/100\n",
            "44/44 [==============================] - 0s 2ms/step - loss: 0.9903 - accuracy: 0.5233\n",
            "Epoch 52/100\n",
            "44/44 [==============================] - 0s 2ms/step - loss: 0.9913 - accuracy: 0.5269\n",
            "Epoch 53/100\n",
            "44/44 [==============================] - 0s 2ms/step - loss: 0.9907 - accuracy: 0.5262\n",
            "Epoch 54/100\n",
            "44/44 [==============================] - 0s 2ms/step - loss: 0.9920 - accuracy: 0.5219\n",
            "Epoch 55/100\n",
            "44/44 [==============================] - 0s 2ms/step - loss: 0.9942 - accuracy: 0.5254\n",
            "Epoch 56/100\n",
            "44/44 [==============================] - 0s 2ms/step - loss: 0.9883 - accuracy: 0.5297\n",
            "Epoch 57/100\n",
            "44/44 [==============================] - 0s 2ms/step - loss: 0.9911 - accuracy: 0.5262\n",
            "Epoch 58/100\n",
            "44/44 [==============================] - 0s 2ms/step - loss: 0.9900 - accuracy: 0.5276\n",
            "Epoch 59/100\n",
            "44/44 [==============================] - 0s 2ms/step - loss: 0.9888 - accuracy: 0.5355\n",
            "Epoch 60/100\n",
            "44/44 [==============================] - 0s 2ms/step - loss: 0.9866 - accuracy: 0.5319\n",
            "Epoch 61/100\n",
            "44/44 [==============================] - 0s 2ms/step - loss: 0.9890 - accuracy: 0.5247\n",
            "Epoch 62/100\n",
            "44/44 [==============================] - 0s 2ms/step - loss: 0.9908 - accuracy: 0.5305\n",
            "Epoch 63/100\n",
            "44/44 [==============================] - 0s 2ms/step - loss: 0.9864 - accuracy: 0.5305\n",
            "Epoch 64/100\n",
            "44/44 [==============================] - 0s 2ms/step - loss: 0.9902 - accuracy: 0.5240\n",
            "Epoch 65/100\n",
            "44/44 [==============================] - 0s 2ms/step - loss: 0.9878 - accuracy: 0.5240\n",
            "Epoch 66/100\n",
            "44/44 [==============================] - 0s 2ms/step - loss: 0.9836 - accuracy: 0.5369\n",
            "Epoch 67/100\n",
            "44/44 [==============================] - 0s 2ms/step - loss: 0.9874 - accuracy: 0.5341\n",
            "Epoch 68/100\n",
            "44/44 [==============================] - 0s 2ms/step - loss: 0.9859 - accuracy: 0.5326\n",
            "Epoch 69/100\n",
            "44/44 [==============================] - 0s 2ms/step - loss: 0.9852 - accuracy: 0.5262\n",
            "Epoch 70/100\n",
            "44/44 [==============================] - 0s 2ms/step - loss: 0.9832 - accuracy: 0.5333\n",
            "Epoch 71/100\n",
            "44/44 [==============================] - 0s 2ms/step - loss: 0.9858 - accuracy: 0.5355\n",
            "Epoch 72/100\n",
            "44/44 [==============================] - 0s 2ms/step - loss: 0.9844 - accuracy: 0.5312\n",
            "Epoch 73/100\n",
            "44/44 [==============================] - 0s 2ms/step - loss: 0.9816 - accuracy: 0.5326\n",
            "Epoch 74/100\n",
            "44/44 [==============================] - 0s 2ms/step - loss: 0.9848 - accuracy: 0.5312\n",
            "Epoch 75/100\n",
            "44/44 [==============================] - 0s 2ms/step - loss: 0.9866 - accuracy: 0.5219\n",
            "Epoch 76/100\n",
            "44/44 [==============================] - 0s 2ms/step - loss: 0.9811 - accuracy: 0.5341\n",
            "Epoch 77/100\n",
            "44/44 [==============================] - 0s 2ms/step - loss: 0.9852 - accuracy: 0.5233\n",
            "Epoch 78/100\n",
            "44/44 [==============================] - 0s 2ms/step - loss: 0.9799 - accuracy: 0.5376\n",
            "Epoch 79/100\n",
            "44/44 [==============================] - 0s 2ms/step - loss: 0.9863 - accuracy: 0.5305\n",
            "Epoch 80/100\n",
            "44/44 [==============================] - 0s 2ms/step - loss: 0.9789 - accuracy: 0.5348\n",
            "Epoch 81/100\n",
            "44/44 [==============================] - 0s 2ms/step - loss: 0.9836 - accuracy: 0.5319\n",
            "Epoch 82/100\n",
            "44/44 [==============================] - 0s 2ms/step - loss: 0.9791 - accuracy: 0.5341\n",
            "Epoch 83/100\n",
            "44/44 [==============================] - 0s 2ms/step - loss: 0.9798 - accuracy: 0.5333\n",
            "Epoch 84/100\n",
            "44/44 [==============================] - 0s 2ms/step - loss: 0.9813 - accuracy: 0.5226\n",
            "Epoch 85/100\n",
            "44/44 [==============================] - 0s 2ms/step - loss: 0.9795 - accuracy: 0.5305\n",
            "Epoch 86/100\n",
            "44/44 [==============================] - 0s 2ms/step - loss: 0.9776 - accuracy: 0.5369\n",
            "Epoch 87/100\n",
            "44/44 [==============================] - 0s 2ms/step - loss: 0.9826 - accuracy: 0.5341\n",
            "Epoch 88/100\n",
            "44/44 [==============================] - 0s 2ms/step - loss: 0.9789 - accuracy: 0.5297\n",
            "Epoch 89/100\n",
            "44/44 [==============================] - 0s 2ms/step - loss: 0.9824 - accuracy: 0.5305\n",
            "Epoch 90/100\n",
            "44/44 [==============================] - 0s 2ms/step - loss: 0.9743 - accuracy: 0.5319\n",
            "Epoch 91/100\n",
            "44/44 [==============================] - 0s 2ms/step - loss: 0.9862 - accuracy: 0.5355\n",
            "Epoch 92/100\n",
            "44/44 [==============================] - 0s 2ms/step - loss: 0.9759 - accuracy: 0.5341\n",
            "Epoch 93/100\n",
            "44/44 [==============================] - 0s 2ms/step - loss: 0.9741 - accuracy: 0.5341\n",
            "Epoch 94/100\n",
            "44/44 [==============================] - 0s 2ms/step - loss: 0.9792 - accuracy: 0.5391\n",
            "Epoch 95/100\n",
            "44/44 [==============================] - 0s 2ms/step - loss: 0.9774 - accuracy: 0.5276\n",
            "Epoch 96/100\n",
            "44/44 [==============================] - 0s 2ms/step - loss: 0.9769 - accuracy: 0.5362\n",
            "Epoch 97/100\n",
            "44/44 [==============================] - 0s 2ms/step - loss: 0.9774 - accuracy: 0.5369\n",
            "Epoch 98/100\n",
            "44/44 [==============================] - 0s 2ms/step - loss: 0.9800 - accuracy: 0.5319\n",
            "Epoch 99/100\n",
            "44/44 [==============================] - 0s 2ms/step - loss: 0.9764 - accuracy: 0.5376\n",
            "Epoch 100/100\n",
            "44/44 [==============================] - 0s 2ms/step - loss: 0.9734 - accuracy: 0.5384\n"
          ]
        }
      ]
    },
    {
      "cell_type": "code",
      "source": [
        ""
      ],
      "metadata": {
        "id": "3kug69AJsKsU"
      },
      "execution_count": null,
      "outputs": []
    }
  ]
}